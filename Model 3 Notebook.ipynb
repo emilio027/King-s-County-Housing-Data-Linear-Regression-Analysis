{
 "cells": [
  {
   "cell_type": "markdown",
   "metadata": {},
   "source": [
    "# MODEL"
   ]
  },
  {
   "cell_type": "code",
   "execution_count": 1,
   "metadata": {},
   "outputs": [],
   "source": [
    "import pandas as pd\n",
    "import numpy as np\n",
    "import matplotlib.pyplot as plt\n",
    "import matplotlib.ticker as ticker\n",
    "from matplotlib.ticker import FuncFormatter\n",
    "import seaborn as sns\n",
    "%matplotlib inline\n",
    "\n",
    "import scipy.stats as stats\n",
    "\n",
    "import statsmodels.api as sm\n",
    "from statsmodels.stats.outliers_influence import variance_inflation_factor\n",
    "import statsmodels.stats.api as sms\n",
    "from statsmodels.formula.api import ols\n",
    "\n",
    "from sklearn.metrics import make_scorer, mean_squared_error, r2_score\n",
    "from sklearn.model_selection import cross_val_score, cross_validate\n",
    "from sklearn.model_selection import train_test_split\n",
    "from sklearn.linear_model import LinearRegression\n",
    "from sklearn.cluster import DBSCAN\n",
    "import sklearn.preprocessing as preprocessing\n",
    "import warnings\n",
    "warnings.simplefilter(action='ignore', category=FutureWarning)"
   ]
  },
  {
   "cell_type": "code",
   "execution_count": 2,
   "metadata": {},
   "outputs": [],
   "source": [
    "import statsmodels.formula.api as smf"
   ]
  },
  {
   "cell_type": "code",
   "execution_count": 3,
   "metadata": {},
   "outputs": [],
   "source": [
    "import plotly.express as px"
   ]
  },
  {
   "cell_type": "code",
   "execution_count": 4,
   "metadata": {
    "scrolled": true
   },
   "outputs": [
    {
     "data": {
      "text/html": [
       "<div>\n",
       "<style scoped>\n",
       "    .dataframe tbody tr th:only-of-type {\n",
       "        vertical-align: middle;\n",
       "    }\n",
       "\n",
       "    .dataframe tbody tr th {\n",
       "        vertical-align: top;\n",
       "    }\n",
       "\n",
       "    .dataframe thead th {\n",
       "        text-align: right;\n",
       "    }\n",
       "</style>\n",
       "<table border=\"1\" class=\"dataframe\">\n",
       "  <thead>\n",
       "    <tr style=\"text-align: right;\">\n",
       "      <th></th>\n",
       "      <th>price</th>\n",
       "      <th>sqft_living</th>\n",
       "      <th>sqft_lot</th>\n",
       "      <th>sqft_basement</th>\n",
       "      <th>lat</th>\n",
       "      <th>long</th>\n",
       "      <th>bedrooms_2</th>\n",
       "      <th>bedrooms_3</th>\n",
       "      <th>bedrooms_4</th>\n",
       "      <th>bedrooms_5</th>\n",
       "      <th>...</th>\n",
       "      <th>condition_4</th>\n",
       "      <th>condition_5</th>\n",
       "      <th>grade_fair</th>\n",
       "      <th>grade_good</th>\n",
       "      <th>grade_excellent</th>\n",
       "      <th>yr_built_early_century</th>\n",
       "      <th>yr_built_mid_century</th>\n",
       "      <th>yr_built_modern</th>\n",
       "      <th>yr_built_post_modern</th>\n",
       "      <th>has_renovated_1</th>\n",
       "    </tr>\n",
       "    <tr>\n",
       "      <th>id</th>\n",
       "      <th></th>\n",
       "      <th></th>\n",
       "      <th></th>\n",
       "      <th></th>\n",
       "      <th></th>\n",
       "      <th></th>\n",
       "      <th></th>\n",
       "      <th></th>\n",
       "      <th></th>\n",
       "      <th></th>\n",
       "      <th></th>\n",
       "      <th></th>\n",
       "      <th></th>\n",
       "      <th></th>\n",
       "      <th></th>\n",
       "      <th></th>\n",
       "      <th></th>\n",
       "      <th></th>\n",
       "      <th></th>\n",
       "      <th></th>\n",
       "      <th></th>\n",
       "    </tr>\n",
       "  </thead>\n",
       "  <tbody>\n",
       "    <tr>\n",
       "      <th>7129300520</th>\n",
       "      <td>221900.0</td>\n",
       "      <td>1180</td>\n",
       "      <td>5650</td>\n",
       "      <td>0</td>\n",
       "      <td>47.5112</td>\n",
       "      <td>-122.257</td>\n",
       "      <td>0</td>\n",
       "      <td>1</td>\n",
       "      <td>0</td>\n",
       "      <td>0</td>\n",
       "      <td>...</td>\n",
       "      <td>0</td>\n",
       "      <td>0</td>\n",
       "      <td>1</td>\n",
       "      <td>0</td>\n",
       "      <td>0</td>\n",
       "      <td>0</td>\n",
       "      <td>1</td>\n",
       "      <td>0</td>\n",
       "      <td>0</td>\n",
       "      <td>0</td>\n",
       "    </tr>\n",
       "    <tr>\n",
       "      <th>6414100192</th>\n",
       "      <td>538000.0</td>\n",
       "      <td>2570</td>\n",
       "      <td>7242</td>\n",
       "      <td>400</td>\n",
       "      <td>47.7210</td>\n",
       "      <td>-122.319</td>\n",
       "      <td>0</td>\n",
       "      <td>1</td>\n",
       "      <td>0</td>\n",
       "      <td>0</td>\n",
       "      <td>...</td>\n",
       "      <td>0</td>\n",
       "      <td>0</td>\n",
       "      <td>1</td>\n",
       "      <td>0</td>\n",
       "      <td>0</td>\n",
       "      <td>0</td>\n",
       "      <td>1</td>\n",
       "      <td>0</td>\n",
       "      <td>0</td>\n",
       "      <td>0</td>\n",
       "    </tr>\n",
       "    <tr>\n",
       "      <th>5631500400</th>\n",
       "      <td>180000.0</td>\n",
       "      <td>770</td>\n",
       "      <td>10000</td>\n",
       "      <td>0</td>\n",
       "      <td>47.7379</td>\n",
       "      <td>-122.233</td>\n",
       "      <td>1</td>\n",
       "      <td>0</td>\n",
       "      <td>0</td>\n",
       "      <td>0</td>\n",
       "      <td>...</td>\n",
       "      <td>0</td>\n",
       "      <td>0</td>\n",
       "      <td>0</td>\n",
       "      <td>0</td>\n",
       "      <td>0</td>\n",
       "      <td>1</td>\n",
       "      <td>0</td>\n",
       "      <td>0</td>\n",
       "      <td>0</td>\n",
       "      <td>0</td>\n",
       "    </tr>\n",
       "    <tr>\n",
       "      <th>2487200875</th>\n",
       "      <td>604000.0</td>\n",
       "      <td>1960</td>\n",
       "      <td>5000</td>\n",
       "      <td>910</td>\n",
       "      <td>47.5208</td>\n",
       "      <td>-122.393</td>\n",
       "      <td>0</td>\n",
       "      <td>0</td>\n",
       "      <td>1</td>\n",
       "      <td>0</td>\n",
       "      <td>...</td>\n",
       "      <td>0</td>\n",
       "      <td>1</td>\n",
       "      <td>1</td>\n",
       "      <td>0</td>\n",
       "      <td>0</td>\n",
       "      <td>0</td>\n",
       "      <td>1</td>\n",
       "      <td>0</td>\n",
       "      <td>0</td>\n",
       "      <td>0</td>\n",
       "    </tr>\n",
       "    <tr>\n",
       "      <th>1954400510</th>\n",
       "      <td>510000.0</td>\n",
       "      <td>1680</td>\n",
       "      <td>8080</td>\n",
       "      <td>0</td>\n",
       "      <td>47.6168</td>\n",
       "      <td>-122.045</td>\n",
       "      <td>0</td>\n",
       "      <td>1</td>\n",
       "      <td>0</td>\n",
       "      <td>0</td>\n",
       "      <td>...</td>\n",
       "      <td>0</td>\n",
       "      <td>0</td>\n",
       "      <td>0</td>\n",
       "      <td>1</td>\n",
       "      <td>0</td>\n",
       "      <td>0</td>\n",
       "      <td>0</td>\n",
       "      <td>1</td>\n",
       "      <td>0</td>\n",
       "      <td>0</td>\n",
       "    </tr>\n",
       "    <tr>\n",
       "      <th>...</th>\n",
       "      <td>...</td>\n",
       "      <td>...</td>\n",
       "      <td>...</td>\n",
       "      <td>...</td>\n",
       "      <td>...</td>\n",
       "      <td>...</td>\n",
       "      <td>...</td>\n",
       "      <td>...</td>\n",
       "      <td>...</td>\n",
       "      <td>...</td>\n",
       "      <td>...</td>\n",
       "      <td>...</td>\n",
       "      <td>...</td>\n",
       "      <td>...</td>\n",
       "      <td>...</td>\n",
       "      <td>...</td>\n",
       "      <td>...</td>\n",
       "      <td>...</td>\n",
       "      <td>...</td>\n",
       "      <td>...</td>\n",
       "      <td>...</td>\n",
       "    </tr>\n",
       "    <tr>\n",
       "      <th>7936000429</th>\n",
       "      <td>1010000.0</td>\n",
       "      <td>3510</td>\n",
       "      <td>7200</td>\n",
       "      <td>910</td>\n",
       "      <td>47.5537</td>\n",
       "      <td>-122.398</td>\n",
       "      <td>0</td>\n",
       "      <td>0</td>\n",
       "      <td>1</td>\n",
       "      <td>0</td>\n",
       "      <td>...</td>\n",
       "      <td>0</td>\n",
       "      <td>0</td>\n",
       "      <td>0</td>\n",
       "      <td>1</td>\n",
       "      <td>0</td>\n",
       "      <td>0</td>\n",
       "      <td>0</td>\n",
       "      <td>0</td>\n",
       "      <td>1</td>\n",
       "      <td>0</td>\n",
       "    </tr>\n",
       "    <tr>\n",
       "      <th>2997800021</th>\n",
       "      <td>475000.0</td>\n",
       "      <td>1310</td>\n",
       "      <td>1294</td>\n",
       "      <td>130</td>\n",
       "      <td>47.5773</td>\n",
       "      <td>-122.409</td>\n",
       "      <td>0</td>\n",
       "      <td>1</td>\n",
       "      <td>0</td>\n",
       "      <td>0</td>\n",
       "      <td>...</td>\n",
       "      <td>0</td>\n",
       "      <td>0</td>\n",
       "      <td>0</td>\n",
       "      <td>1</td>\n",
       "      <td>0</td>\n",
       "      <td>0</td>\n",
       "      <td>0</td>\n",
       "      <td>0</td>\n",
       "      <td>1</td>\n",
       "      <td>0</td>\n",
       "    </tr>\n",
       "    <tr>\n",
       "      <th>263000018</th>\n",
       "      <td>360000.0</td>\n",
       "      <td>1530</td>\n",
       "      <td>1131</td>\n",
       "      <td>0</td>\n",
       "      <td>47.6993</td>\n",
       "      <td>-122.346</td>\n",
       "      <td>0</td>\n",
       "      <td>1</td>\n",
       "      <td>0</td>\n",
       "      <td>0</td>\n",
       "      <td>...</td>\n",
       "      <td>0</td>\n",
       "      <td>0</td>\n",
       "      <td>0</td>\n",
       "      <td>1</td>\n",
       "      <td>0</td>\n",
       "      <td>0</td>\n",
       "      <td>0</td>\n",
       "      <td>0</td>\n",
       "      <td>1</td>\n",
       "      <td>0</td>\n",
       "    </tr>\n",
       "    <tr>\n",
       "      <th>6600060120</th>\n",
       "      <td>400000.0</td>\n",
       "      <td>2310</td>\n",
       "      <td>5813</td>\n",
       "      <td>0</td>\n",
       "      <td>47.5107</td>\n",
       "      <td>-122.362</td>\n",
       "      <td>0</td>\n",
       "      <td>0</td>\n",
       "      <td>1</td>\n",
       "      <td>0</td>\n",
       "      <td>...</td>\n",
       "      <td>0</td>\n",
       "      <td>0</td>\n",
       "      <td>0</td>\n",
       "      <td>1</td>\n",
       "      <td>0</td>\n",
       "      <td>0</td>\n",
       "      <td>0</td>\n",
       "      <td>0</td>\n",
       "      <td>1</td>\n",
       "      <td>0</td>\n",
       "    </tr>\n",
       "    <tr>\n",
       "      <th>291310100</th>\n",
       "      <td>400000.0</td>\n",
       "      <td>1600</td>\n",
       "      <td>2388</td>\n",
       "      <td>0</td>\n",
       "      <td>47.5345</td>\n",
       "      <td>-122.069</td>\n",
       "      <td>0</td>\n",
       "      <td>1</td>\n",
       "      <td>0</td>\n",
       "      <td>0</td>\n",
       "      <td>...</td>\n",
       "      <td>0</td>\n",
       "      <td>0</td>\n",
       "      <td>0</td>\n",
       "      <td>1</td>\n",
       "      <td>0</td>\n",
       "      <td>0</td>\n",
       "      <td>0</td>\n",
       "      <td>0</td>\n",
       "      <td>1</td>\n",
       "      <td>0</td>\n",
       "    </tr>\n",
       "  </tbody>\n",
       "</table>\n",
       "<p>20747 rows × 41 columns</p>\n",
       "</div>"
      ],
      "text/plain": [
       "                price  sqft_living  sqft_lot  sqft_basement      lat     long  \\\n",
       "id                                                                              \n",
       "7129300520   221900.0         1180      5650              0  47.5112 -122.257   \n",
       "6414100192   538000.0         2570      7242            400  47.7210 -122.319   \n",
       "5631500400   180000.0          770     10000              0  47.7379 -122.233   \n",
       "2487200875   604000.0         1960      5000            910  47.5208 -122.393   \n",
       "1954400510   510000.0         1680      8080              0  47.6168 -122.045   \n",
       "...               ...          ...       ...            ...      ...      ...   \n",
       "7936000429  1010000.0         3510      7200            910  47.5537 -122.398   \n",
       "2997800021   475000.0         1310      1294            130  47.5773 -122.409   \n",
       "263000018    360000.0         1530      1131              0  47.6993 -122.346   \n",
       "6600060120   400000.0         2310      5813              0  47.5107 -122.362   \n",
       "291310100    400000.0         1600      2388              0  47.5345 -122.069   \n",
       "\n",
       "            bedrooms_2  bedrooms_3  bedrooms_4  bedrooms_5  ...  condition_4  \\\n",
       "id                                                          ...                \n",
       "7129300520           0           1           0           0  ...            0   \n",
       "6414100192           0           1           0           0  ...            0   \n",
       "5631500400           1           0           0           0  ...            0   \n",
       "2487200875           0           0           1           0  ...            0   \n",
       "1954400510           0           1           0           0  ...            0   \n",
       "...                ...         ...         ...         ...  ...          ...   \n",
       "7936000429           0           0           1           0  ...            0   \n",
       "2997800021           0           1           0           0  ...            0   \n",
       "263000018            0           1           0           0  ...            0   \n",
       "6600060120           0           0           1           0  ...            0   \n",
       "291310100            0           1           0           0  ...            0   \n",
       "\n",
       "            condition_5  grade_fair  grade_good  grade_excellent  \\\n",
       "id                                                                 \n",
       "7129300520            0           1           0                0   \n",
       "6414100192            0           1           0                0   \n",
       "5631500400            0           0           0                0   \n",
       "2487200875            1           1           0                0   \n",
       "1954400510            0           0           1                0   \n",
       "...                 ...         ...         ...              ...   \n",
       "7936000429            0           0           1                0   \n",
       "2997800021            0           0           1                0   \n",
       "263000018             0           0           1                0   \n",
       "6600060120            0           0           1                0   \n",
       "291310100             0           0           1                0   \n",
       "\n",
       "            yr_built_early_century  yr_built_mid_century  yr_built_modern  \\\n",
       "id                                                                          \n",
       "7129300520                       0                     1                0   \n",
       "6414100192                       0                     1                0   \n",
       "5631500400                       1                     0                0   \n",
       "2487200875                       0                     1                0   \n",
       "1954400510                       0                     0                1   \n",
       "...                            ...                   ...              ...   \n",
       "7936000429                       0                     0                0   \n",
       "2997800021                       0                     0                0   \n",
       "263000018                        0                     0                0   \n",
       "6600060120                       0                     0                0   \n",
       "291310100                        0                     0                0   \n",
       "\n",
       "            yr_built_post_modern  has_renovated_1  \n",
       "id                                                 \n",
       "7129300520                     0                0  \n",
       "6414100192                     0                0  \n",
       "5631500400                     0                0  \n",
       "2487200875                     0                0  \n",
       "1954400510                     0                0  \n",
       "...                          ...              ...  \n",
       "7936000429                     1                0  \n",
       "2997800021                     1                0  \n",
       "263000018                      1                0  \n",
       "6600060120                     1                0  \n",
       "291310100                      1                0  \n",
       "\n",
       "[20747 rows x 41 columns]"
      ]
     },
     "execution_count": 4,
     "metadata": {},
     "output_type": "execute_result"
    }
   ],
   "source": [
    "df = pd.read_csv('df_f1.csv',index_col='id')\n",
    "df"
   ]
  },
  {
   "cell_type": "code",
   "execution_count": 5,
   "metadata": {
    "scrolled": true
   },
   "outputs": [
    {
     "name": "stdout",
     "output_type": "stream",
     "text": [
      "<class 'pandas.core.frame.DataFrame'>\n",
      "Int64Index: 20747 entries, 7129300520 to 291310100\n",
      "Data columns (total 41 columns):\n",
      " #   Column                  Non-Null Count  Dtype  \n",
      "---  ------                  --------------  -----  \n",
      " 0   price                   20747 non-null  float64\n",
      " 1   sqft_living             20747 non-null  int64  \n",
      " 2   sqft_lot                20747 non-null  int64  \n",
      " 3   sqft_basement           20747 non-null  int64  \n",
      " 4   lat                     20747 non-null  float64\n",
      " 5   long                    20747 non-null  float64\n",
      " 6   bedrooms_2              20747 non-null  int64  \n",
      " 7   bedrooms_3              20747 non-null  int64  \n",
      " 8   bedrooms_4              20747 non-null  int64  \n",
      " 9   bedrooms_5              20747 non-null  int64  \n",
      " 10  bedrooms_6              20747 non-null  int64  \n",
      " 11  bathrooms_1.5           20747 non-null  int64  \n",
      " 12  bathrooms_1.75          20747 non-null  int64  \n",
      " 13  bathrooms_2.0           20747 non-null  int64  \n",
      " 14  bathrooms_2.25          20747 non-null  int64  \n",
      " 15  bathrooms_2.5           20747 non-null  int64  \n",
      " 16  bathrooms_2.75          20747 non-null  int64  \n",
      " 17  bathrooms_3.0           20747 non-null  int64  \n",
      " 18  bathrooms_3.25          20747 non-null  int64  \n",
      " 19  bathrooms_3.5           20747 non-null  int64  \n",
      " 20  bathrooms_3.75          20747 non-null  int64  \n",
      " 21  bathrooms_4.0           20747 non-null  int64  \n",
      " 22  bathrooms_4.25          20747 non-null  int64  \n",
      " 23  floors_1.5              20747 non-null  int64  \n",
      " 24  floors_2.0              20747 non-null  int64  \n",
      " 25  floors_3.0              20747 non-null  int64  \n",
      " 26  waterfront_1.0          20747 non-null  int64  \n",
      " 27  view_1.0                20747 non-null  int64  \n",
      " 28  view_2.0                20747 non-null  int64  \n",
      " 29  view_3.0                20747 non-null  int64  \n",
      " 30  view_4.0                20747 non-null  int64  \n",
      " 31  condition_4             20747 non-null  int64  \n",
      " 32  condition_5             20747 non-null  int64  \n",
      " 33  grade_fair              20747 non-null  int64  \n",
      " 34  grade_good              20747 non-null  int64  \n",
      " 35  grade_excellent         20747 non-null  int64  \n",
      " 36  yr_built_early_century  20747 non-null  int64  \n",
      " 37  yr_built_mid_century    20747 non-null  int64  \n",
      " 38  yr_built_modern         20747 non-null  int64  \n",
      " 39  yr_built_post_modern    20747 non-null  int64  \n",
      " 40  has_renovated_1         20747 non-null  int64  \n",
      "dtypes: float64(3), int64(38)\n",
      "memory usage: 6.6 MB\n"
     ]
    }
   ],
   "source": [
    "df.info()"
   ]
  },
  {
   "cell_type": "code",
   "execution_count": null,
   "metadata": {},
   "outputs": [],
   "source": []
  },
  {
   "cell_type": "code",
   "execution_count": 6,
   "metadata": {},
   "outputs": [
    {
     "data": {
      "text/html": [
       "<div>\n",
       "<style scoped>\n",
       "    .dataframe tbody tr th:only-of-type {\n",
       "        vertical-align: middle;\n",
       "    }\n",
       "\n",
       "    .dataframe tbody tr th {\n",
       "        vertical-align: top;\n",
       "    }\n",
       "\n",
       "    .dataframe thead th {\n",
       "        text-align: right;\n",
       "    }\n",
       "</style>\n",
       "<table border=\"1\" class=\"dataframe\">\n",
       "  <thead>\n",
       "    <tr style=\"text-align: right;\">\n",
       "      <th></th>\n",
       "      <th>price</th>\n",
       "      <th>bedrooms</th>\n",
       "      <th>bathrooms</th>\n",
       "      <th>sqft_living</th>\n",
       "      <th>sqft_lot</th>\n",
       "      <th>floors</th>\n",
       "      <th>waterfront</th>\n",
       "      <th>view</th>\n",
       "      <th>condition</th>\n",
       "      <th>grade</th>\n",
       "      <th>sqft_basement</th>\n",
       "      <th>yr_built</th>\n",
       "      <th>zipcode</th>\n",
       "      <th>lat</th>\n",
       "      <th>long</th>\n",
       "      <th>has_renovated</th>\n",
       "      <th>grade_bins</th>\n",
       "      <th>yr_bins</th>\n",
       "    </tr>\n",
       "    <tr>\n",
       "      <th>id</th>\n",
       "      <th></th>\n",
       "      <th></th>\n",
       "      <th></th>\n",
       "      <th></th>\n",
       "      <th></th>\n",
       "      <th></th>\n",
       "      <th></th>\n",
       "      <th></th>\n",
       "      <th></th>\n",
       "      <th></th>\n",
       "      <th></th>\n",
       "      <th></th>\n",
       "      <th></th>\n",
       "      <th></th>\n",
       "      <th></th>\n",
       "      <th></th>\n",
       "      <th></th>\n",
       "      <th></th>\n",
       "    </tr>\n",
       "  </thead>\n",
       "  <tbody>\n",
       "    <tr>\n",
       "      <th>7129300520</th>\n",
       "      <td>221900.0</td>\n",
       "      <td>3</td>\n",
       "      <td>1.00</td>\n",
       "      <td>1180</td>\n",
       "      <td>5650</td>\n",
       "      <td>1.0</td>\n",
       "      <td>0.0</td>\n",
       "      <td>0.0</td>\n",
       "      <td>3</td>\n",
       "      <td>7</td>\n",
       "      <td>0</td>\n",
       "      <td>1955</td>\n",
       "      <td>98178</td>\n",
       "      <td>47.5112</td>\n",
       "      <td>-122.257</td>\n",
       "      <td>0</td>\n",
       "      <td>fair</td>\n",
       "      <td>mid_century</td>\n",
       "    </tr>\n",
       "    <tr>\n",
       "      <th>6414100192</th>\n",
       "      <td>538000.0</td>\n",
       "      <td>3</td>\n",
       "      <td>2.25</td>\n",
       "      <td>2570</td>\n",
       "      <td>7242</td>\n",
       "      <td>2.0</td>\n",
       "      <td>0.0</td>\n",
       "      <td>0.0</td>\n",
       "      <td>3</td>\n",
       "      <td>7</td>\n",
       "      <td>400</td>\n",
       "      <td>1951</td>\n",
       "      <td>98125</td>\n",
       "      <td>47.7210</td>\n",
       "      <td>-122.319</td>\n",
       "      <td>0</td>\n",
       "      <td>fair</td>\n",
       "      <td>mid_century</td>\n",
       "    </tr>\n",
       "    <tr>\n",
       "      <th>5631500400</th>\n",
       "      <td>180000.0</td>\n",
       "      <td>2</td>\n",
       "      <td>1.00</td>\n",
       "      <td>770</td>\n",
       "      <td>10000</td>\n",
       "      <td>1.0</td>\n",
       "      <td>0.0</td>\n",
       "      <td>0.0</td>\n",
       "      <td>3</td>\n",
       "      <td>6</td>\n",
       "      <td>0</td>\n",
       "      <td>1933</td>\n",
       "      <td>98028</td>\n",
       "      <td>47.7379</td>\n",
       "      <td>-122.233</td>\n",
       "      <td>0</td>\n",
       "      <td>dropped</td>\n",
       "      <td>early_century</td>\n",
       "    </tr>\n",
       "    <tr>\n",
       "      <th>2487200875</th>\n",
       "      <td>604000.0</td>\n",
       "      <td>4</td>\n",
       "      <td>3.00</td>\n",
       "      <td>1960</td>\n",
       "      <td>5000</td>\n",
       "      <td>1.0</td>\n",
       "      <td>0.0</td>\n",
       "      <td>0.0</td>\n",
       "      <td>5</td>\n",
       "      <td>7</td>\n",
       "      <td>910</td>\n",
       "      <td>1965</td>\n",
       "      <td>98136</td>\n",
       "      <td>47.5208</td>\n",
       "      <td>-122.393</td>\n",
       "      <td>0</td>\n",
       "      <td>fair</td>\n",
       "      <td>mid_century</td>\n",
       "    </tr>\n",
       "    <tr>\n",
       "      <th>1954400510</th>\n",
       "      <td>510000.0</td>\n",
       "      <td>3</td>\n",
       "      <td>2.00</td>\n",
       "      <td>1680</td>\n",
       "      <td>8080</td>\n",
       "      <td>1.0</td>\n",
       "      <td>0.0</td>\n",
       "      <td>0.0</td>\n",
       "      <td>3</td>\n",
       "      <td>8</td>\n",
       "      <td>0</td>\n",
       "      <td>1987</td>\n",
       "      <td>98074</td>\n",
       "      <td>47.6168</td>\n",
       "      <td>-122.045</td>\n",
       "      <td>0</td>\n",
       "      <td>good</td>\n",
       "      <td>modern</td>\n",
       "    </tr>\n",
       "    <tr>\n",
       "      <th>...</th>\n",
       "      <td>...</td>\n",
       "      <td>...</td>\n",
       "      <td>...</td>\n",
       "      <td>...</td>\n",
       "      <td>...</td>\n",
       "      <td>...</td>\n",
       "      <td>...</td>\n",
       "      <td>...</td>\n",
       "      <td>...</td>\n",
       "      <td>...</td>\n",
       "      <td>...</td>\n",
       "      <td>...</td>\n",
       "      <td>...</td>\n",
       "      <td>...</td>\n",
       "      <td>...</td>\n",
       "      <td>...</td>\n",
       "      <td>...</td>\n",
       "      <td>...</td>\n",
       "    </tr>\n",
       "    <tr>\n",
       "      <th>7936000429</th>\n",
       "      <td>1010000.0</td>\n",
       "      <td>4</td>\n",
       "      <td>3.50</td>\n",
       "      <td>3510</td>\n",
       "      <td>7200</td>\n",
       "      <td>2.0</td>\n",
       "      <td>0.0</td>\n",
       "      <td>0.0</td>\n",
       "      <td>3</td>\n",
       "      <td>9</td>\n",
       "      <td>910</td>\n",
       "      <td>2009</td>\n",
       "      <td>98136</td>\n",
       "      <td>47.5537</td>\n",
       "      <td>-122.398</td>\n",
       "      <td>0</td>\n",
       "      <td>good</td>\n",
       "      <td>post_modern</td>\n",
       "    </tr>\n",
       "    <tr>\n",
       "      <th>2997800021</th>\n",
       "      <td>475000.0</td>\n",
       "      <td>3</td>\n",
       "      <td>2.50</td>\n",
       "      <td>1310</td>\n",
       "      <td>1294</td>\n",
       "      <td>2.0</td>\n",
       "      <td>0.0</td>\n",
       "      <td>0.0</td>\n",
       "      <td>3</td>\n",
       "      <td>8</td>\n",
       "      <td>130</td>\n",
       "      <td>2008</td>\n",
       "      <td>98116</td>\n",
       "      <td>47.5773</td>\n",
       "      <td>-122.409</td>\n",
       "      <td>0</td>\n",
       "      <td>good</td>\n",
       "      <td>post_modern</td>\n",
       "    </tr>\n",
       "    <tr>\n",
       "      <th>263000018</th>\n",
       "      <td>360000.0</td>\n",
       "      <td>3</td>\n",
       "      <td>2.50</td>\n",
       "      <td>1530</td>\n",
       "      <td>1131</td>\n",
       "      <td>3.0</td>\n",
       "      <td>0.0</td>\n",
       "      <td>0.0</td>\n",
       "      <td>3</td>\n",
       "      <td>8</td>\n",
       "      <td>0</td>\n",
       "      <td>2009</td>\n",
       "      <td>98103</td>\n",
       "      <td>47.6993</td>\n",
       "      <td>-122.346</td>\n",
       "      <td>0</td>\n",
       "      <td>good</td>\n",
       "      <td>post_modern</td>\n",
       "    </tr>\n",
       "    <tr>\n",
       "      <th>6600060120</th>\n",
       "      <td>400000.0</td>\n",
       "      <td>4</td>\n",
       "      <td>2.50</td>\n",
       "      <td>2310</td>\n",
       "      <td>5813</td>\n",
       "      <td>2.0</td>\n",
       "      <td>0.0</td>\n",
       "      <td>0.0</td>\n",
       "      <td>3</td>\n",
       "      <td>8</td>\n",
       "      <td>0</td>\n",
       "      <td>2014</td>\n",
       "      <td>98146</td>\n",
       "      <td>47.5107</td>\n",
       "      <td>-122.362</td>\n",
       "      <td>0</td>\n",
       "      <td>good</td>\n",
       "      <td>post_modern</td>\n",
       "    </tr>\n",
       "    <tr>\n",
       "      <th>291310100</th>\n",
       "      <td>400000.0</td>\n",
       "      <td>3</td>\n",
       "      <td>2.50</td>\n",
       "      <td>1600</td>\n",
       "      <td>2388</td>\n",
       "      <td>2.0</td>\n",
       "      <td>0.0</td>\n",
       "      <td>0.0</td>\n",
       "      <td>3</td>\n",
       "      <td>8</td>\n",
       "      <td>0</td>\n",
       "      <td>2004</td>\n",
       "      <td>98027</td>\n",
       "      <td>47.5345</td>\n",
       "      <td>-122.069</td>\n",
       "      <td>0</td>\n",
       "      <td>good</td>\n",
       "      <td>post_modern</td>\n",
       "    </tr>\n",
       "  </tbody>\n",
       "</table>\n",
       "<p>20747 rows × 18 columns</p>\n",
       "</div>"
      ],
      "text/plain": [
       "                price  bedrooms  bathrooms  sqft_living  sqft_lot  floors  \\\n",
       "id                                                                          \n",
       "7129300520   221900.0         3       1.00         1180      5650     1.0   \n",
       "6414100192   538000.0         3       2.25         2570      7242     2.0   \n",
       "5631500400   180000.0         2       1.00          770     10000     1.0   \n",
       "2487200875   604000.0         4       3.00         1960      5000     1.0   \n",
       "1954400510   510000.0         3       2.00         1680      8080     1.0   \n",
       "...               ...       ...        ...          ...       ...     ...   \n",
       "7936000429  1010000.0         4       3.50         3510      7200     2.0   \n",
       "2997800021   475000.0         3       2.50         1310      1294     2.0   \n",
       "263000018    360000.0         3       2.50         1530      1131     3.0   \n",
       "6600060120   400000.0         4       2.50         2310      5813     2.0   \n",
       "291310100    400000.0         3       2.50         1600      2388     2.0   \n",
       "\n",
       "            waterfront  view  condition  grade  sqft_basement  yr_built  \\\n",
       "id                                                                        \n",
       "7129300520         0.0   0.0          3      7              0      1955   \n",
       "6414100192         0.0   0.0          3      7            400      1951   \n",
       "5631500400         0.0   0.0          3      6              0      1933   \n",
       "2487200875         0.0   0.0          5      7            910      1965   \n",
       "1954400510         0.0   0.0          3      8              0      1987   \n",
       "...                ...   ...        ...    ...            ...       ...   \n",
       "7936000429         0.0   0.0          3      9            910      2009   \n",
       "2997800021         0.0   0.0          3      8            130      2008   \n",
       "263000018          0.0   0.0          3      8              0      2009   \n",
       "6600060120         0.0   0.0          3      8              0      2014   \n",
       "291310100          0.0   0.0          3      8              0      2004   \n",
       "\n",
       "            zipcode      lat     long  has_renovated grade_bins        yr_bins  \n",
       "id                                                                              \n",
       "7129300520    98178  47.5112 -122.257              0       fair    mid_century  \n",
       "6414100192    98125  47.7210 -122.319              0       fair    mid_century  \n",
       "5631500400    98028  47.7379 -122.233              0    dropped  early_century  \n",
       "2487200875    98136  47.5208 -122.393              0       fair    mid_century  \n",
       "1954400510    98074  47.6168 -122.045              0       good         modern  \n",
       "...             ...      ...      ...            ...        ...            ...  \n",
       "7936000429    98136  47.5537 -122.398              0       good    post_modern  \n",
       "2997800021    98116  47.5773 -122.409              0       good    post_modern  \n",
       "263000018     98103  47.6993 -122.346              0       good    post_modern  \n",
       "6600060120    98146  47.5107 -122.362              0       good    post_modern  \n",
       "291310100     98027  47.5345 -122.069              0       good    post_modern  \n",
       "\n",
       "[20747 rows x 18 columns]"
      ]
     },
     "execution_count": 6,
     "metadata": {},
     "output_type": "execute_result"
    }
   ],
   "source": [
    "df1 = pd.read_csv('df.csv',index_col='id')\n",
    "df1"
   ]
  },
  {
   "cell_type": "code",
   "execution_count": 7,
   "metadata": {},
   "outputs": [],
   "source": [
    "df = df.rename(columns={'bathrooms_1.5':'bathrooms_1_5','bathrooms_1.75':\"bathrooms_1_75\",'bathrooms_2.0':'bathrooms_2','bathrooms_2.25':'bathrooms_2_25','bathrooms_2.5':'bathrooms_2_5','bathrooms_2.75':'bathrooms_2_75','bathrooms_3.0':'bathrooms_3','bathrooms_3.25':'bathrooms_3_25','bathrooms_3.5':'bathrooms_3_5','bathrooms_3.75':'bathrooms_3_75','bathrooms_4.0':'bathrooms_4','bathrooms_4.25':'bathrooms_4_25','floors_1.5':'floors_1_5','floors_2.0':'floors_2','floors_3.0':'floors_3','waterfront_1.0':'waterfront_1','view_1.0':'view_1','view_2.0':'view_2','view_3.0':'view_3','view_4.0':'view_4'})"
   ]
  },
  {
   "cell_type": "code",
   "execution_count": 8,
   "metadata": {
    "scrolled": true
   },
   "outputs": [
    {
     "name": "stdout",
     "output_type": "stream",
     "text": [
      "<class 'pandas.core.frame.DataFrame'>\n",
      "Int64Index: 20747 entries, 7129300520 to 291310100\n",
      "Data columns (total 41 columns):\n",
      " #   Column                  Non-Null Count  Dtype  \n",
      "---  ------                  --------------  -----  \n",
      " 0   price                   20747 non-null  float64\n",
      " 1   sqft_living             20747 non-null  int64  \n",
      " 2   sqft_lot                20747 non-null  int64  \n",
      " 3   sqft_basement           20747 non-null  int64  \n",
      " 4   lat                     20747 non-null  float64\n",
      " 5   long                    20747 non-null  float64\n",
      " 6   bedrooms_2              20747 non-null  int64  \n",
      " 7   bedrooms_3              20747 non-null  int64  \n",
      " 8   bedrooms_4              20747 non-null  int64  \n",
      " 9   bedrooms_5              20747 non-null  int64  \n",
      " 10  bedrooms_6              20747 non-null  int64  \n",
      " 11  bathrooms_1_5           20747 non-null  int64  \n",
      " 12  bathrooms_1_75          20747 non-null  int64  \n",
      " 13  bathrooms_2             20747 non-null  int64  \n",
      " 14  bathrooms_2_25          20747 non-null  int64  \n",
      " 15  bathrooms_2_5           20747 non-null  int64  \n",
      " 16  bathrooms_2_75          20747 non-null  int64  \n",
      " 17  bathrooms_3             20747 non-null  int64  \n",
      " 18  bathrooms_3_25          20747 non-null  int64  \n",
      " 19  bathrooms_3_5           20747 non-null  int64  \n",
      " 20  bathrooms_3_75          20747 non-null  int64  \n",
      " 21  bathrooms_4             20747 non-null  int64  \n",
      " 22  bathrooms_4_25          20747 non-null  int64  \n",
      " 23  floors_1_5              20747 non-null  int64  \n",
      " 24  floors_2                20747 non-null  int64  \n",
      " 25  floors_3                20747 non-null  int64  \n",
      " 26  waterfront_1            20747 non-null  int64  \n",
      " 27  view_1                  20747 non-null  int64  \n",
      " 28  view_2                  20747 non-null  int64  \n",
      " 29  view_3                  20747 non-null  int64  \n",
      " 30  view_4                  20747 non-null  int64  \n",
      " 31  condition_4             20747 non-null  int64  \n",
      " 32  condition_5             20747 non-null  int64  \n",
      " 33  grade_fair              20747 non-null  int64  \n",
      " 34  grade_good              20747 non-null  int64  \n",
      " 35  grade_excellent         20747 non-null  int64  \n",
      " 36  yr_built_early_century  20747 non-null  int64  \n",
      " 37  yr_built_mid_century    20747 non-null  int64  \n",
      " 38  yr_built_modern         20747 non-null  int64  \n",
      " 39  yr_built_post_modern    20747 non-null  int64  \n",
      " 40  has_renovated_1         20747 non-null  int64  \n",
      "dtypes: float64(3), int64(38)\n",
      "memory usage: 6.6 MB\n"
     ]
    }
   ],
   "source": [
    "df.info()"
   ]
  },
  {
   "cell_type": "code",
   "execution_count": 9,
   "metadata": {},
   "outputs": [],
   "source": [
    "df.to_csv('df_no_zip')"
   ]
  },
  {
   "cell_type": "code",
   "execution_count": 10,
   "metadata": {},
   "outputs": [],
   "source": [
    "outcome = 'price'\n",
    "predictors = df.drop('price',axis=1)\n",
    "pred_sum = '+'.join(predictors.columns)\n",
    "formula = outcome + '~' + pred_sum"
   ]
  },
  {
   "cell_type": "code",
   "execution_count": 11,
   "metadata": {
    "scrolled": false
   },
   "outputs": [
    {
     "data": {
      "text/plain": [
       "'price~sqft_living+sqft_lot+sqft_basement+lat+long+bedrooms_2+bedrooms_3+bedrooms_4+bedrooms_5+bedrooms_6+bathrooms_1_5+bathrooms_1_75+bathrooms_2+bathrooms_2_25+bathrooms_2_5+bathrooms_2_75+bathrooms_3+bathrooms_3_25+bathrooms_3_5+bathrooms_3_75+bathrooms_4+bathrooms_4_25+floors_1_5+floors_2+floors_3+waterfront_1+view_1+view_2+view_3+view_4+condition_4+condition_5+grade_fair+grade_good+grade_excellent+yr_built_early_century+yr_built_mid_century+yr_built_modern+yr_built_post_modern+has_renovated_1'"
      ]
     },
     "execution_count": 11,
     "metadata": {},
     "output_type": "execute_result"
    }
   ],
   "source": [
    "formula"
   ]
  },
  {
   "cell_type": "markdown",
   "metadata": {},
   "source": [
    "## MODEL 1"
   ]
  },
  {
   "cell_type": "code",
   "execution_count": 12,
   "metadata": {
    "scrolled": true
   },
   "outputs": [
    {
     "data": {
      "text/html": [
       "<table class=\"simpletable\">\n",
       "<caption>OLS Regression Results</caption>\n",
       "<tr>\n",
       "  <th>Dep. Variable:</th>          <td>price</td>      <th>  R-squared:         </th>  <td>   0.692</td>  \n",
       "</tr>\n",
       "<tr>\n",
       "  <th>Model:</th>                   <td>OLS</td>       <th>  Adj. R-squared:    </th>  <td>   0.691</td>  \n",
       "</tr>\n",
       "<tr>\n",
       "  <th>Method:</th>             <td>Least Squares</td>  <th>  F-statistic:       </th>  <td>   1161.</td>  \n",
       "</tr>\n",
       "<tr>\n",
       "  <th>Date:</th>             <td>Fri, 24 Sep 2021</td> <th>  Prob (F-statistic):</th>   <td>  0.00</td>   \n",
       "</tr>\n",
       "<tr>\n",
       "  <th>Time:</th>                 <td>09:17:49</td>     <th>  Log-Likelihood:    </th> <td>-2.8047e+05</td>\n",
       "</tr>\n",
       "<tr>\n",
       "  <th>No. Observations:</th>      <td> 20747</td>      <th>  AIC:               </th>  <td>5.610e+05</td> \n",
       "</tr>\n",
       "<tr>\n",
       "  <th>Df Residuals:</th>          <td> 20706</td>      <th>  BIC:               </th>  <td>5.613e+05</td> \n",
       "</tr>\n",
       "<tr>\n",
       "  <th>Df Model:</th>              <td>    40</td>      <th>                     </th>      <td> </td>     \n",
       "</tr>\n",
       "<tr>\n",
       "  <th>Covariance Type:</th>      <td>nonrobust</td>    <th>                     </th>      <td> </td>     \n",
       "</tr>\n",
       "</table>\n",
       "<table class=\"simpletable\">\n",
       "<tr>\n",
       "             <td></td>               <th>coef</th>     <th>std err</th>      <th>t</th>      <th>P>|t|</th>  <th>[0.025</th>    <th>0.975]</th>  \n",
       "</tr>\n",
       "<tr>\n",
       "  <th>Intercept</th>              <td>-3.555e+07</td> <td> 1.41e+06</td> <td>  -25.226</td> <td> 0.000</td> <td>-3.83e+07</td> <td>-3.28e+07</td>\n",
       "</tr>\n",
       "<tr>\n",
       "  <th>sqft_living</th>            <td>  171.9850</td> <td>    3.184</td> <td>   54.010</td> <td> 0.000</td> <td>  165.744</td> <td>  178.227</td>\n",
       "</tr>\n",
       "<tr>\n",
       "  <th>sqft_lot</th>               <td>    0.0331</td> <td>    0.033</td> <td>    1.003</td> <td> 0.316</td> <td>   -0.032</td> <td>    0.098</td>\n",
       "</tr>\n",
       "<tr>\n",
       "  <th>sqft_basement</th>          <td>  -34.1340</td> <td>    4.166</td> <td>   -8.193</td> <td> 0.000</td> <td>  -42.301</td> <td>  -25.967</td>\n",
       "</tr>\n",
       "<tr>\n",
       "  <th>lat</th>                    <td> 5.895e+05</td> <td> 9614.790</td> <td>   61.317</td> <td> 0.000</td> <td> 5.71e+05</td> <td> 6.08e+05</td>\n",
       "</tr>\n",
       "<tr>\n",
       "  <th>long</th>                   <td>-6.267e+04</td> <td> 1.09e+04</td> <td>   -5.756</td> <td> 0.000</td> <td> -8.4e+04</td> <td>-4.13e+04</td>\n",
       "</tr>\n",
       "<tr>\n",
       "  <th>bedrooms_2</th>             <td> 9111.5396</td> <td> 1.54e+04</td> <td>    0.592</td> <td> 0.554</td> <td> -2.1e+04</td> <td> 3.93e+04</td>\n",
       "</tr>\n",
       "<tr>\n",
       "  <th>bedrooms_3</th>             <td> -816.0682</td> <td> 1.54e+04</td> <td>   -0.053</td> <td> 0.958</td> <td> -3.1e+04</td> <td> 2.93e+04</td>\n",
       "</tr>\n",
       "<tr>\n",
       "  <th>bedrooms_4</th>             <td>-2.296e+04</td> <td> 1.57e+04</td> <td>   -1.464</td> <td> 0.143</td> <td>-5.37e+04</td> <td> 7781.706</td>\n",
       "</tr>\n",
       "<tr>\n",
       "  <th>bedrooms_5</th>             <td>-3.993e+04</td> <td> 1.64e+04</td> <td>   -2.432</td> <td> 0.015</td> <td>-7.21e+04</td> <td>-7752.705</td>\n",
       "</tr>\n",
       "<tr>\n",
       "  <th>bedrooms_6</th>             <td>-1.029e+05</td> <td> 2.01e+04</td> <td>   -5.107</td> <td> 0.000</td> <td>-1.42e+05</td> <td>-6.34e+04</td>\n",
       "</tr>\n",
       "<tr>\n",
       "  <th>bathrooms_1_5</th>          <td> 1372.8965</td> <td> 6017.373</td> <td>    0.228</td> <td> 0.820</td> <td>-1.04e+04</td> <td> 1.32e+04</td>\n",
       "</tr>\n",
       "<tr>\n",
       "  <th>bathrooms_1_75</th>         <td>-4202.1573</td> <td> 5145.936</td> <td>   -0.817</td> <td> 0.414</td> <td>-1.43e+04</td> <td> 5884.282</td>\n",
       "</tr>\n",
       "<tr>\n",
       "  <th>bathrooms_2</th>            <td> 2693.2840</td> <td> 5748.586</td> <td>    0.469</td> <td> 0.639</td> <td>-8574.396</td> <td>  1.4e+04</td>\n",
       "</tr>\n",
       "<tr>\n",
       "  <th>bathrooms_2_25</th>         <td> 1.974e+04</td> <td> 6411.355</td> <td>    3.078</td> <td> 0.002</td> <td> 7169.036</td> <td> 3.23e+04</td>\n",
       "</tr>\n",
       "<tr>\n",
       "  <th>bathrooms_2_5</th>          <td> -112.8834</td> <td> 6194.369</td> <td>   -0.018</td> <td> 0.985</td> <td>-1.23e+04</td> <td>  1.2e+04</td>\n",
       "</tr>\n",
       "<tr>\n",
       "  <th>bathrooms_2_75</th>         <td> 9495.7858</td> <td> 7724.552</td> <td>    1.229</td> <td> 0.219</td> <td>-5644.943</td> <td> 2.46e+04</td>\n",
       "</tr>\n",
       "<tr>\n",
       "  <th>bathrooms_3</th>            <td> 3.227e+04</td> <td> 8931.657</td> <td>    3.613</td> <td> 0.000</td> <td> 1.48e+04</td> <td> 4.98e+04</td>\n",
       "</tr>\n",
       "<tr>\n",
       "  <th>bathrooms_3_25</th>         <td> 1.184e+05</td> <td> 1.02e+04</td> <td>   11.606</td> <td> 0.000</td> <td> 9.84e+04</td> <td> 1.38e+05</td>\n",
       "</tr>\n",
       "<tr>\n",
       "  <th>bathrooms_3_5</th>          <td> 7.447e+04</td> <td> 9967.904</td> <td>    7.471</td> <td> 0.000</td> <td> 5.49e+04</td> <td>  9.4e+04</td>\n",
       "</tr>\n",
       "<tr>\n",
       "  <th>bathrooms_3_75</th>         <td> 1.997e+05</td> <td> 1.68e+04</td> <td>   11.913</td> <td> 0.000</td> <td> 1.67e+05</td> <td> 2.33e+05</td>\n",
       "</tr>\n",
       "<tr>\n",
       "  <th>bathrooms_4</th>            <td>  2.01e+05</td> <td> 1.84e+04</td> <td>   10.954</td> <td> 0.000</td> <td> 1.65e+05</td> <td> 2.37e+05</td>\n",
       "</tr>\n",
       "<tr>\n",
       "  <th>bathrooms_4_25</th>         <td> 2.651e+05</td> <td> 2.32e+04</td> <td>   11.425</td> <td> 0.000</td> <td>  2.2e+05</td> <td> 3.11e+05</td>\n",
       "</tr>\n",
       "<tr>\n",
       "  <th>floors_1_5</th>             <td>-4778.3540</td> <td> 5170.545</td> <td>   -0.924</td> <td> 0.355</td> <td>-1.49e+04</td> <td> 5356.321</td>\n",
       "</tr>\n",
       "<tr>\n",
       "  <th>floors_2</th>               <td>-4621.1548</td> <td> 4479.325</td> <td>   -1.032</td> <td> 0.302</td> <td>-1.34e+04</td> <td> 4158.675</td>\n",
       "</tr>\n",
       "<tr>\n",
       "  <th>floors_3</th>               <td> -255.7394</td> <td> 9020.252</td> <td>   -0.028</td> <td> 0.977</td> <td>-1.79e+04</td> <td> 1.74e+04</td>\n",
       "</tr>\n",
       "<tr>\n",
       "  <th>waterfront_1</th>           <td> 4.561e+05</td> <td> 1.99e+04</td> <td>   22.875</td> <td> 0.000</td> <td> 4.17e+05</td> <td> 4.95e+05</td>\n",
       "</tr>\n",
       "<tr>\n",
       "  <th>view_1</th>                 <td>   1.4e+05</td> <td> 1.03e+04</td> <td>   13.587</td> <td> 0.000</td> <td>  1.2e+05</td> <td>  1.6e+05</td>\n",
       "</tr>\n",
       "<tr>\n",
       "  <th>view_2</th>                 <td> 8.347e+04</td> <td> 6302.827</td> <td>   13.243</td> <td> 0.000</td> <td> 7.11e+04</td> <td> 9.58e+04</td>\n",
       "</tr>\n",
       "<tr>\n",
       "  <th>view_3</th>                 <td>  1.65e+05</td> <td> 8676.737</td> <td>   19.019</td> <td> 0.000</td> <td> 1.48e+05</td> <td> 1.82e+05</td>\n",
       "</tr>\n",
       "<tr>\n",
       "  <th>view_4</th>                 <td>  3.14e+05</td> <td> 1.35e+04</td> <td>   23.213</td> <td> 0.000</td> <td> 2.87e+05</td> <td>  3.4e+05</td>\n",
       "</tr>\n",
       "<tr>\n",
       "  <th>condition_4</th>            <td> 4.424e+04</td> <td> 3184.106</td> <td>   13.894</td> <td> 0.000</td> <td>  3.8e+04</td> <td> 5.05e+04</td>\n",
       "</tr>\n",
       "<tr>\n",
       "  <th>condition_5</th>            <td> 7.969e+04</td> <td> 5068.420</td> <td>   15.723</td> <td> 0.000</td> <td> 6.98e+04</td> <td> 8.96e+04</td>\n",
       "</tr>\n",
       "<tr>\n",
       "  <th>grade_fair</th>             <td> 6.203e+04</td> <td> 5018.443</td> <td>   12.360</td> <td> 0.000</td> <td> 5.22e+04</td> <td> 7.19e+04</td>\n",
       "</tr>\n",
       "<tr>\n",
       "  <th>grade_good</th>             <td>  1.55e+05</td> <td> 5962.900</td> <td>   25.998</td> <td> 0.000</td> <td> 1.43e+05</td> <td> 1.67e+05</td>\n",
       "</tr>\n",
       "<tr>\n",
       "  <th>grade_excellent</th>        <td> 4.119e+05</td> <td> 8933.559</td> <td>   46.111</td> <td> 0.000</td> <td> 3.94e+05</td> <td> 4.29e+05</td>\n",
       "</tr>\n",
       "<tr>\n",
       "  <th>yr_built_early_century</th> <td>-5.984e+04</td> <td> 5357.711</td> <td>  -11.170</td> <td> 0.000</td> <td>-7.03e+04</td> <td>-4.93e+04</td>\n",
       "</tr>\n",
       "<tr>\n",
       "  <th>yr_built_mid_century</th>   <td>-1.168e+05</td> <td> 5478.150</td> <td>  -21.312</td> <td> 0.000</td> <td>-1.27e+05</td> <td>-1.06e+05</td>\n",
       "</tr>\n",
       "<tr>\n",
       "  <th>yr_built_modern</th>        <td>-1.605e+05</td> <td> 6061.243</td> <td>  -26.475</td> <td> 0.000</td> <td>-1.72e+05</td> <td>-1.49e+05</td>\n",
       "</tr>\n",
       "<tr>\n",
       "  <th>yr_built_post_modern</th>   <td>-1.435e+05</td> <td> 6753.756</td> <td>  -21.253</td> <td> 0.000</td> <td>-1.57e+05</td> <td> -1.3e+05</td>\n",
       "</tr>\n",
       "<tr>\n",
       "  <th>has_renovated_1</th>        <td> 1.315e+05</td> <td> 1.03e+04</td> <td>   12.796</td> <td> 0.000</td> <td> 1.11e+05</td> <td> 1.52e+05</td>\n",
       "</tr>\n",
       "</table>\n",
       "<table class=\"simpletable\">\n",
       "<tr>\n",
       "  <th>Omnibus:</th>       <td>11729.188</td> <th>  Durbin-Watson:     </th>  <td>   2.003</td> \n",
       "</tr>\n",
       "<tr>\n",
       "  <th>Prob(Omnibus):</th>  <td> 0.000</td>   <th>  Jarque-Bera (JB):  </th> <td>274133.677</td>\n",
       "</tr>\n",
       "<tr>\n",
       "  <th>Skew:</th>           <td> 2.255</td>   <th>  Prob(JB):          </th>  <td>    0.00</td> \n",
       "</tr>\n",
       "<tr>\n",
       "  <th>Kurtosis:</th>       <td>20.227</td>   <th>  Cond. No.          </th>  <td>4.82e+07</td> \n",
       "</tr>\n",
       "</table><br/><br/>Notes:<br/>[1] Standard Errors assume that the covariance matrix of the errors is correctly specified.<br/>[2] The condition number is large, 4.82e+07. This might indicate that there are<br/>strong multicollinearity or other numerical problems."
      ],
      "text/plain": [
       "<class 'statsmodels.iolib.summary.Summary'>\n",
       "\"\"\"\n",
       "                            OLS Regression Results                            \n",
       "==============================================================================\n",
       "Dep. Variable:                  price   R-squared:                       0.692\n",
       "Model:                            OLS   Adj. R-squared:                  0.691\n",
       "Method:                 Least Squares   F-statistic:                     1161.\n",
       "Date:                Fri, 24 Sep 2021   Prob (F-statistic):               0.00\n",
       "Time:                        09:17:49   Log-Likelihood:            -2.8047e+05\n",
       "No. Observations:               20747   AIC:                         5.610e+05\n",
       "Df Residuals:                   20706   BIC:                         5.613e+05\n",
       "Df Model:                          40                                         \n",
       "Covariance Type:            nonrobust                                         \n",
       "==========================================================================================\n",
       "                             coef    std err          t      P>|t|      [0.025      0.975]\n",
       "------------------------------------------------------------------------------------------\n",
       "Intercept              -3.555e+07   1.41e+06    -25.226      0.000   -3.83e+07   -3.28e+07\n",
       "sqft_living              171.9850      3.184     54.010      0.000     165.744     178.227\n",
       "sqft_lot                   0.0331      0.033      1.003      0.316      -0.032       0.098\n",
       "sqft_basement            -34.1340      4.166     -8.193      0.000     -42.301     -25.967\n",
       "lat                     5.895e+05   9614.790     61.317      0.000    5.71e+05    6.08e+05\n",
       "long                   -6.267e+04   1.09e+04     -5.756      0.000    -8.4e+04   -4.13e+04\n",
       "bedrooms_2              9111.5396   1.54e+04      0.592      0.554    -2.1e+04    3.93e+04\n",
       "bedrooms_3              -816.0682   1.54e+04     -0.053      0.958    -3.1e+04    2.93e+04\n",
       "bedrooms_4             -2.296e+04   1.57e+04     -1.464      0.143   -5.37e+04    7781.706\n",
       "bedrooms_5             -3.993e+04   1.64e+04     -2.432      0.015   -7.21e+04   -7752.705\n",
       "bedrooms_6             -1.029e+05   2.01e+04     -5.107      0.000   -1.42e+05   -6.34e+04\n",
       "bathrooms_1_5           1372.8965   6017.373      0.228      0.820   -1.04e+04    1.32e+04\n",
       "bathrooms_1_75         -4202.1573   5145.936     -0.817      0.414   -1.43e+04    5884.282\n",
       "bathrooms_2             2693.2840   5748.586      0.469      0.639   -8574.396     1.4e+04\n",
       "bathrooms_2_25          1.974e+04   6411.355      3.078      0.002    7169.036    3.23e+04\n",
       "bathrooms_2_5           -112.8834   6194.369     -0.018      0.985   -1.23e+04     1.2e+04\n",
       "bathrooms_2_75          9495.7858   7724.552      1.229      0.219   -5644.943    2.46e+04\n",
       "bathrooms_3             3.227e+04   8931.657      3.613      0.000    1.48e+04    4.98e+04\n",
       "bathrooms_3_25          1.184e+05   1.02e+04     11.606      0.000    9.84e+04    1.38e+05\n",
       "bathrooms_3_5           7.447e+04   9967.904      7.471      0.000    5.49e+04     9.4e+04\n",
       "bathrooms_3_75          1.997e+05   1.68e+04     11.913      0.000    1.67e+05    2.33e+05\n",
       "bathrooms_4              2.01e+05   1.84e+04     10.954      0.000    1.65e+05    2.37e+05\n",
       "bathrooms_4_25          2.651e+05   2.32e+04     11.425      0.000     2.2e+05    3.11e+05\n",
       "floors_1_5             -4778.3540   5170.545     -0.924      0.355   -1.49e+04    5356.321\n",
       "floors_2               -4621.1548   4479.325     -1.032      0.302   -1.34e+04    4158.675\n",
       "floors_3                -255.7394   9020.252     -0.028      0.977   -1.79e+04    1.74e+04\n",
       "waterfront_1            4.561e+05   1.99e+04     22.875      0.000    4.17e+05    4.95e+05\n",
       "view_1                    1.4e+05   1.03e+04     13.587      0.000     1.2e+05     1.6e+05\n",
       "view_2                  8.347e+04   6302.827     13.243      0.000    7.11e+04    9.58e+04\n",
       "view_3                   1.65e+05   8676.737     19.019      0.000    1.48e+05    1.82e+05\n",
       "view_4                   3.14e+05   1.35e+04     23.213      0.000    2.87e+05     3.4e+05\n",
       "condition_4             4.424e+04   3184.106     13.894      0.000     3.8e+04    5.05e+04\n",
       "condition_5             7.969e+04   5068.420     15.723      0.000    6.98e+04    8.96e+04\n",
       "grade_fair              6.203e+04   5018.443     12.360      0.000    5.22e+04    7.19e+04\n",
       "grade_good               1.55e+05   5962.900     25.998      0.000    1.43e+05    1.67e+05\n",
       "grade_excellent         4.119e+05   8933.559     46.111      0.000    3.94e+05    4.29e+05\n",
       "yr_built_early_century -5.984e+04   5357.711    -11.170      0.000   -7.03e+04   -4.93e+04\n",
       "yr_built_mid_century   -1.168e+05   5478.150    -21.312      0.000   -1.27e+05   -1.06e+05\n",
       "yr_built_modern        -1.605e+05   6061.243    -26.475      0.000   -1.72e+05   -1.49e+05\n",
       "yr_built_post_modern   -1.435e+05   6753.756    -21.253      0.000   -1.57e+05    -1.3e+05\n",
       "has_renovated_1         1.315e+05   1.03e+04     12.796      0.000    1.11e+05    1.52e+05\n",
       "==============================================================================\n",
       "Omnibus:                    11729.188   Durbin-Watson:                   2.003\n",
       "Prob(Omnibus):                  0.000   Jarque-Bera (JB):           274133.677\n",
       "Skew:                           2.255   Prob(JB):                         0.00\n",
       "Kurtosis:                      20.227   Cond. No.                     4.82e+07\n",
       "==============================================================================\n",
       "\n",
       "Notes:\n",
       "[1] Standard Errors assume that the covariance matrix of the errors is correctly specified.\n",
       "[2] The condition number is large, 4.82e+07. This might indicate that there are\n",
       "strong multicollinearity or other numerical problems.\n",
       "\"\"\""
      ]
     },
     "execution_count": 12,
     "metadata": {},
     "output_type": "execute_result"
    }
   ],
   "source": [
    "model = ols(formula=formula,data=df).fit()\n",
    "model.summary()"
   ]
  },
  {
   "cell_type": "markdown",
   "metadata": {},
   "source": [
    "## Linear Regression Diagnostics"
   ]
  },
  {
   "cell_type": "code",
   "execution_count": 13,
   "metadata": {
    "scrolled": true
   },
   "outputs": [
    {
     "data": {
      "image/png": "[encoded data removed]",
      "text/plain": [
       "<Figure size 432x288 with 1 Axes>"
      ]
     },
     "metadata": {
      "needs_background": "light"
     },
     "output_type": "display_data"
    }
   ],
   "source": [
    "fig = sm.graphics.qqplot(model.resid, dist=stats.norm, line='45', fit=True)"
   ]
  },
  {
   "cell_type": "markdown",
   "metadata": {},
   "source": [
    "#### Perhaps a log transformation.."
   ]
  },
  {
   "cell_type": "markdown",
   "metadata": {},
   "source": [
    "## MODEL 3"
   ]
  },
  {
   "cell_type": "code",
   "execution_count": 14,
   "metadata": {},
   "outputs": [],
   "source": [
    "df_log = df"
   ]
  },
  {
   "cell_type": "code",
   "execution_count": 15,
   "metadata": {},
   "outputs": [
    {
     "data": {
      "text/plain": [
       "127"
      ]
     },
     "execution_count": 15,
     "metadata": {},
     "output_type": "execute_result"
    }
   ],
   "source": [
    "len(df_log[df_log['price'] > 2000000])"
   ]
  },
  {
   "cell_type": "code",
   "execution_count": 16,
   "metadata": {
    "scrolled": false
   },
   "outputs": [
    {
     "data": {
      "text/plain": [
       "<AxesSubplot:>"
      ]
     },
     "execution_count": 16,
     "metadata": {},
     "output_type": "execute_result"
    },
    {
     "data": {
      "image/png": "[encoded data removed]",
      "text/plain": [
       "<Figure size 432x288 with 1 Axes>"
      ]
     },
     "metadata": {
      "needs_background": "light"
     },
     "output_type": "display_data"
    }
   ],
   "source": [
    "df_log['log_price'] = np.log(df_log.price)\n",
    "df_log.log_price.hist()"
   ]
  },
  {
   "cell_type": "code",
   "execution_count": 17,
   "metadata": {},
   "outputs": [],
   "source": [
    "df_log = df_log[df_log['price'] < 2000000]"
   ]
  },
  {
   "cell_type": "code",
   "execution_count": 18,
   "metadata": {},
   "outputs": [],
   "source": [
    "outcome = 'log_price'\n",
    "predictors = df_log.drop(['price','log_price'],axis=1)\n",
    "pred_sum = '+'.join(predictors.columns)\n",
    "formula = outcome + '~' + pred_sum"
   ]
  },
  {
   "cell_type": "code",
   "execution_count": 19,
   "metadata": {
    "scrolled": true
   },
   "outputs": [
    {
     "data": {
      "text/plain": [
       "'log_price~sqft_living+sqft_lot+sqft_basement+lat+long+bedrooms_2+bedrooms_3+bedrooms_4+bedrooms_5+bedrooms_6+bathrooms_1_5+bathrooms_1_75+bathrooms_2+bathrooms_2_25+bathrooms_2_5+bathrooms_2_75+bathrooms_3+bathrooms_3_25+bathrooms_3_5+bathrooms_3_75+bathrooms_4+bathrooms_4_25+floors_1_5+floors_2+floors_3+waterfront_1+view_1+view_2+view_3+view_4+condition_4+condition_5+grade_fair+grade_good+grade_excellent+yr_built_early_century+yr_built_mid_century+yr_built_modern+yr_built_post_modern+has_renovated_1'"
      ]
     },
     "execution_count": 19,
     "metadata": {},
     "output_type": "execute_result"
    }
   ],
   "source": [
    "formula"
   ]
  },
  {
   "cell_type": "code",
   "execution_count": 20,
   "metadata": {
    "scrolled": false
   },
   "outputs": [
    {
     "data": {
      "text/html": [
       "<table class=\"simpletable\">\n",
       "<caption>OLS Regression Results</caption>\n",
       "<tr>\n",
       "  <th>Dep. Variable:</th>        <td>log_price</td>    <th>  R-squared:         </th> <td>   0.739</td>\n",
       "</tr>\n",
       "<tr>\n",
       "  <th>Model:</th>                   <td>OLS</td>       <th>  Adj. R-squared:    </th> <td>   0.739</td>\n",
       "</tr>\n",
       "<tr>\n",
       "  <th>Method:</th>             <td>Least Squares</td>  <th>  F-statistic:       </th> <td>   1457.</td>\n",
       "</tr>\n",
       "<tr>\n",
       "  <th>Date:</th>             <td>Fri, 24 Sep 2021</td> <th>  Prob (F-statistic):</th>  <td>  0.00</td> \n",
       "</tr>\n",
       "<tr>\n",
       "  <th>Time:</th>                 <td>09:17:50</td>     <th>  Log-Likelihood:    </th> <td> -576.07</td>\n",
       "</tr>\n",
       "<tr>\n",
       "  <th>No. Observations:</th>      <td> 20610</td>      <th>  AIC:               </th> <td>   1234.</td>\n",
       "</tr>\n",
       "<tr>\n",
       "  <th>Df Residuals:</th>          <td> 20569</td>      <th>  BIC:               </th> <td>   1559.</td>\n",
       "</tr>\n",
       "<tr>\n",
       "  <th>Df Model:</th>              <td>    40</td>      <th>                     </th>     <td> </td>   \n",
       "</tr>\n",
       "<tr>\n",
       "  <th>Covariance Type:</th>      <td>nonrobust</td>    <th>                     </th>     <td> </td>   \n",
       "</tr>\n",
       "</table>\n",
       "<table class=\"simpletable\">\n",
       "<tr>\n",
       "             <td></td>               <th>coef</th>     <th>std err</th>      <th>t</th>      <th>P>|t|</th>  <th>[0.025</th>    <th>0.975]</th>  \n",
       "</tr>\n",
       "<tr>\n",
       "  <th>Intercept</th>              <td>  -51.9952</td> <td>    1.957</td> <td>  -26.566</td> <td> 0.000</td> <td>  -55.831</td> <td>  -48.159</td>\n",
       "</tr>\n",
       "<tr>\n",
       "  <th>sqft_living</th>            <td>    0.0002</td> <td> 4.48e-06</td> <td>   53.520</td> <td> 0.000</td> <td>    0.000</td> <td>    0.000</td>\n",
       "</tr>\n",
       "<tr>\n",
       "  <th>sqft_lot</th>               <td> 4.573e-07</td> <td> 4.64e-08</td> <td>    9.859</td> <td> 0.000</td> <td> 3.66e-07</td> <td> 5.48e-07</td>\n",
       "</tr>\n",
       "<tr>\n",
       "  <th>sqft_basement</th>          <td>-4.495e-05</td> <td> 5.85e-06</td> <td>   -7.685</td> <td> 0.000</td> <td>-5.64e-05</td> <td>-3.35e-05</td>\n",
       "</tr>\n",
       "<tr>\n",
       "  <th>lat</th>                    <td>    1.3867</td> <td>    0.013</td> <td>  104.070</td> <td> 0.000</td> <td>    1.361</td> <td>    1.413</td>\n",
       "</tr>\n",
       "<tr>\n",
       "  <th>long</th>                   <td>    0.0133</td> <td>    0.015</td> <td>    0.879</td> <td> 0.380</td> <td>   -0.016</td> <td>    0.043</td>\n",
       "</tr>\n",
       "<tr>\n",
       "  <th>bedrooms_2</th>             <td>    0.0438</td> <td>    0.021</td> <td>    2.057</td> <td> 0.040</td> <td>    0.002</td> <td>    0.086</td>\n",
       "</tr>\n",
       "<tr>\n",
       "  <th>bedrooms_3</th>             <td>    0.0327</td> <td>    0.021</td> <td>    1.535</td> <td> 0.125</td> <td>   -0.009</td> <td>    0.074</td>\n",
       "</tr>\n",
       "<tr>\n",
       "  <th>bedrooms_4</th>             <td>    0.0192</td> <td>    0.022</td> <td>    0.886</td> <td> 0.376</td> <td>   -0.023</td> <td>    0.062</td>\n",
       "</tr>\n",
       "<tr>\n",
       "  <th>bedrooms_5</th>             <td>   -0.0006</td> <td>    0.023</td> <td>   -0.025</td> <td> 0.980</td> <td>   -0.045</td> <td>    0.044</td>\n",
       "</tr>\n",
       "<tr>\n",
       "  <th>bedrooms_6</th>             <td>   -0.0491</td> <td>    0.028</td> <td>   -1.753</td> <td> 0.080</td> <td>   -0.104</td> <td>    0.006</td>\n",
       "</tr>\n",
       "<tr>\n",
       "  <th>bathrooms_1_5</th>          <td>    0.0285</td> <td>    0.008</td> <td>    3.417</td> <td> 0.001</td> <td>    0.012</td> <td>    0.045</td>\n",
       "</tr>\n",
       "<tr>\n",
       "  <th>bathrooms_1_75</th>         <td>    0.0621</td> <td>    0.007</td> <td>    8.701</td> <td> 0.000</td> <td>    0.048</td> <td>    0.076</td>\n",
       "</tr>\n",
       "<tr>\n",
       "  <th>bathrooms_2</th>            <td>    0.0673</td> <td>    0.008</td> <td>    8.454</td> <td> 0.000</td> <td>    0.052</td> <td>    0.083</td>\n",
       "</tr>\n",
       "<tr>\n",
       "  <th>bathrooms_2_25</th>         <td>    0.0920</td> <td>    0.009</td> <td>   10.343</td> <td> 0.000</td> <td>    0.075</td> <td>    0.109</td>\n",
       "</tr>\n",
       "<tr>\n",
       "  <th>bathrooms_2_5</th>          <td>    0.0882</td> <td>    0.009</td> <td>   10.252</td> <td> 0.000</td> <td>    0.071</td> <td>    0.105</td>\n",
       "</tr>\n",
       "<tr>\n",
       "  <th>bathrooms_2_75</th>         <td>    0.1100</td> <td>    0.011</td> <td>   10.250</td> <td> 0.000</td> <td>    0.089</td> <td>    0.131</td>\n",
       "</tr>\n",
       "<tr>\n",
       "  <th>bathrooms_3</th>            <td>    0.1046</td> <td>    0.012</td> <td>    8.405</td> <td> 0.000</td> <td>    0.080</td> <td>    0.129</td>\n",
       "</tr>\n",
       "<tr>\n",
       "  <th>bathrooms_3_25</th>         <td>    0.1478</td> <td>    0.014</td> <td>   10.304</td> <td> 0.000</td> <td>    0.120</td> <td>    0.176</td>\n",
       "</tr>\n",
       "<tr>\n",
       "  <th>bathrooms_3_5</th>          <td>    0.1561</td> <td>    0.014</td> <td>   11.215</td> <td> 0.000</td> <td>    0.129</td> <td>    0.183</td>\n",
       "</tr>\n",
       "<tr>\n",
       "  <th>bathrooms_3_75</th>         <td>    0.1839</td> <td>    0.024</td> <td>    7.651</td> <td> 0.000</td> <td>    0.137</td> <td>    0.231</td>\n",
       "</tr>\n",
       "<tr>\n",
       "  <th>bathrooms_4</th>            <td>    0.1263</td> <td>    0.027</td> <td>    4.711</td> <td> 0.000</td> <td>    0.074</td> <td>    0.179</td>\n",
       "</tr>\n",
       "<tr>\n",
       "  <th>bathrooms_4_25</th>         <td>    0.1225</td> <td>    0.036</td> <td>    3.437</td> <td> 0.001</td> <td>    0.053</td> <td>    0.192</td>\n",
       "</tr>\n",
       "<tr>\n",
       "  <th>floors_1_5</th>             <td>    0.0120</td> <td>    0.007</td> <td>    1.675</td> <td> 0.094</td> <td>   -0.002</td> <td>    0.026</td>\n",
       "</tr>\n",
       "<tr>\n",
       "  <th>floors_2</th>               <td>    0.0046</td> <td>    0.006</td> <td>    0.744</td> <td> 0.457</td> <td>   -0.008</td> <td>    0.017</td>\n",
       "</tr>\n",
       "<tr>\n",
       "  <th>floors_3</th>               <td>   -0.0029</td> <td>    0.013</td> <td>   -0.231</td> <td> 0.817</td> <td>   -0.027</td> <td>    0.022</td>\n",
       "</tr>\n",
       "<tr>\n",
       "  <th>waterfront_1</th>           <td>    0.3711</td> <td>    0.031</td> <td>   12.087</td> <td> 0.000</td> <td>    0.311</td> <td>    0.431</td>\n",
       "</tr>\n",
       "<tr>\n",
       "  <th>view_1</th>                 <td>    0.1920</td> <td>    0.015</td> <td>   13.202</td> <td> 0.000</td> <td>    0.163</td> <td>    0.220</td>\n",
       "</tr>\n",
       "<tr>\n",
       "  <th>view_2</th>                 <td>    0.1483</td> <td>    0.009</td> <td>   16.875</td> <td> 0.000</td> <td>    0.131</td> <td>    0.166</td>\n",
       "</tr>\n",
       "<tr>\n",
       "  <th>view_3</th>                 <td>    0.2184</td> <td>    0.012</td> <td>   17.841</td> <td> 0.000</td> <td>    0.194</td> <td>    0.242</td>\n",
       "</tr>\n",
       "<tr>\n",
       "  <th>view_4</th>                 <td>    0.3009</td> <td>    0.020</td> <td>   15.298</td> <td> 0.000</td> <td>    0.262</td> <td>    0.340</td>\n",
       "</tr>\n",
       "<tr>\n",
       "  <th>condition_4</th>            <td>    0.0760</td> <td>    0.004</td> <td>   17.187</td> <td> 0.000</td> <td>    0.067</td> <td>    0.085</td>\n",
       "</tr>\n",
       "<tr>\n",
       "  <th>condition_5</th>            <td>    0.1238</td> <td>    0.007</td> <td>   17.545</td> <td> 0.000</td> <td>    0.110</td> <td>    0.138</td>\n",
       "</tr>\n",
       "<tr>\n",
       "  <th>grade_fair</th>             <td>    0.2114</td> <td>    0.007</td> <td>   30.419</td> <td> 0.000</td> <td>    0.198</td> <td>    0.225</td>\n",
       "</tr>\n",
       "<tr>\n",
       "  <th>grade_good</th>             <td>    0.4211</td> <td>    0.008</td> <td>   50.925</td> <td> 0.000</td> <td>    0.405</td> <td>    0.437</td>\n",
       "</tr>\n",
       "<tr>\n",
       "  <th>grade_excellent</th>        <td>    0.6347</td> <td>    0.012</td> <td>   50.882</td> <td> 0.000</td> <td>    0.610</td> <td>    0.659</td>\n",
       "</tr>\n",
       "<tr>\n",
       "  <th>yr_built_early_century</th> <td>   -0.1336</td> <td>    0.007</td> <td>  -17.938</td> <td> 0.000</td> <td>   -0.148</td> <td>   -0.119</td>\n",
       "</tr>\n",
       "<tr>\n",
       "  <th>yr_built_mid_century</th>   <td>   -0.2605</td> <td>    0.008</td> <td>  -34.220</td> <td> 0.000</td> <td>   -0.275</td> <td>   -0.246</td>\n",
       "</tr>\n",
       "<tr>\n",
       "  <th>yr_built_modern</th>        <td>   -0.3118</td> <td>    0.008</td> <td>  -36.944</td> <td> 0.000</td> <td>   -0.328</td> <td>   -0.295</td>\n",
       "</tr>\n",
       "<tr>\n",
       "  <th>yr_built_post_modern</th>   <td>   -0.2789</td> <td>    0.009</td> <td>  -29.641</td> <td> 0.000</td> <td>   -0.297</td> <td>   -0.261</td>\n",
       "</tr>\n",
       "<tr>\n",
       "  <th>has_renovated_1</th>        <td>    0.1380</td> <td>    0.014</td> <td>    9.546</td> <td> 0.000</td> <td>    0.110</td> <td>    0.166</td>\n",
       "</tr>\n",
       "</table>\n",
       "<table class=\"simpletable\">\n",
       "<tr>\n",
       "  <th>Omnibus:</th>       <td>485.985</td> <th>  Durbin-Watson:     </th> <td>   1.989</td> \n",
       "</tr>\n",
       "<tr>\n",
       "  <th>Prob(Omnibus):</th> <td> 0.000</td>  <th>  Jarque-Bera (JB):  </th> <td>1054.228</td> \n",
       "</tr>\n",
       "<tr>\n",
       "  <th>Skew:</th>          <td> 0.104</td>  <th>  Prob(JB):          </th> <td>1.19e-229</td>\n",
       "</tr>\n",
       "<tr>\n",
       "  <th>Kurtosis:</th>      <td> 4.088</td>  <th>  Cond. No.          </th> <td>4.76e+07</td> \n",
       "</tr>\n",
       "</table><br/><br/>Notes:<br/>[1] Standard Errors assume that the covariance matrix of the errors is correctly specified.<br/>[2] The condition number is large, 4.76e+07. This might indicate that there are<br/>strong multicollinearity or other numerical problems."
      ],
      "text/plain": [
       "<class 'statsmodels.iolib.summary.Summary'>\n",
       "\"\"\"\n",
       "                            OLS Regression Results                            \n",
       "==============================================================================\n",
       "Dep. Variable:              log_price   R-squared:                       0.739\n",
       "Model:                            OLS   Adj. R-squared:                  0.739\n",
       "Method:                 Least Squares   F-statistic:                     1457.\n",
       "Date:                Fri, 24 Sep 2021   Prob (F-statistic):               0.00\n",
       "Time:                        09:17:50   Log-Likelihood:                -576.07\n",
       "No. Observations:               20610   AIC:                             1234.\n",
       "Df Residuals:                   20569   BIC:                             1559.\n",
       "Df Model:                          40                                         \n",
       "Covariance Type:            nonrobust                                         \n",
       "==========================================================================================\n",
       "                             coef    std err          t      P>|t|      [0.025      0.975]\n",
       "------------------------------------------------------------------------------------------\n",
       "Intercept                -51.9952      1.957    -26.566      0.000     -55.831     -48.159\n",
       "sqft_living                0.0002   4.48e-06     53.520      0.000       0.000       0.000\n",
       "sqft_lot                4.573e-07   4.64e-08      9.859      0.000    3.66e-07    5.48e-07\n",
       "sqft_basement          -4.495e-05   5.85e-06     -7.685      0.000   -5.64e-05   -3.35e-05\n",
       "lat                        1.3867      0.013    104.070      0.000       1.361       1.413\n",
       "long                       0.0133      0.015      0.879      0.380      -0.016       0.043\n",
       "bedrooms_2                 0.0438      0.021      2.057      0.040       0.002       0.086\n",
       "bedrooms_3                 0.0327      0.021      1.535      0.125      -0.009       0.074\n",
       "bedrooms_4                 0.0192      0.022      0.886      0.376      -0.023       0.062\n",
       "bedrooms_5                -0.0006      0.023     -0.025      0.980      -0.045       0.044\n",
       "bedrooms_6                -0.0491      0.028     -1.753      0.080      -0.104       0.006\n",
       "bathrooms_1_5              0.0285      0.008      3.417      0.001       0.012       0.045\n",
       "bathrooms_1_75             0.0621      0.007      8.701      0.000       0.048       0.076\n",
       "bathrooms_2                0.0673      0.008      8.454      0.000       0.052       0.083\n",
       "bathrooms_2_25             0.0920      0.009     10.343      0.000       0.075       0.109\n",
       "bathrooms_2_5              0.0882      0.009     10.252      0.000       0.071       0.105\n",
       "bathrooms_2_75             0.1100      0.011     10.250      0.000       0.089       0.131\n",
       "bathrooms_3                0.1046      0.012      8.405      0.000       0.080       0.129\n",
       "bathrooms_3_25             0.1478      0.014     10.304      0.000       0.120       0.176\n",
       "bathrooms_3_5              0.1561      0.014     11.215      0.000       0.129       0.183\n",
       "bathrooms_3_75             0.1839      0.024      7.651      0.000       0.137       0.231\n",
       "bathrooms_4                0.1263      0.027      4.711      0.000       0.074       0.179\n",
       "bathrooms_4_25             0.1225      0.036      3.437      0.001       0.053       0.192\n",
       "floors_1_5                 0.0120      0.007      1.675      0.094      -0.002       0.026\n",
       "floors_2                   0.0046      0.006      0.744      0.457      -0.008       0.017\n",
       "floors_3                  -0.0029      0.013     -0.231      0.817      -0.027       0.022\n",
       "waterfront_1               0.3711      0.031     12.087      0.000       0.311       0.431\n",
       "view_1                     0.1920      0.015     13.202      0.000       0.163       0.220\n",
       "view_2                     0.1483      0.009     16.875      0.000       0.131       0.166\n",
       "view_3                     0.2184      0.012     17.841      0.000       0.194       0.242\n",
       "view_4                     0.3009      0.020     15.298      0.000       0.262       0.340\n",
       "condition_4                0.0760      0.004     17.187      0.000       0.067       0.085\n",
       "condition_5                0.1238      0.007     17.545      0.000       0.110       0.138\n",
       "grade_fair                 0.2114      0.007     30.419      0.000       0.198       0.225\n",
       "grade_good                 0.4211      0.008     50.925      0.000       0.405       0.437\n",
       "grade_excellent            0.6347      0.012     50.882      0.000       0.610       0.659\n",
       "yr_built_early_century    -0.1336      0.007    -17.938      0.000      -0.148      -0.119\n",
       "yr_built_mid_century      -0.2605      0.008    -34.220      0.000      -0.275      -0.246\n",
       "yr_built_modern           -0.3118      0.008    -36.944      0.000      -0.328      -0.295\n",
       "yr_built_post_modern      -0.2789      0.009    -29.641      0.000      -0.297      -0.261\n",
       "has_renovated_1            0.1380      0.014      9.546      0.000       0.110       0.166\n",
       "==============================================================================\n",
       "Omnibus:                      485.985   Durbin-Watson:                   1.989\n",
       "Prob(Omnibus):                  0.000   Jarque-Bera (JB):             1054.228\n",
       "Skew:                           0.104   Prob(JB):                    1.19e-229\n",
       "Kurtosis:                       4.088   Cond. No.                     4.76e+07\n",
       "==============================================================================\n",
       "\n",
       "Notes:\n",
       "[1] Standard Errors assume that the covariance matrix of the errors is correctly specified.\n",
       "[2] The condition number is large, 4.76e+07. This might indicate that there are\n",
       "strong multicollinearity or other numerical problems.\n",
       "\"\"\""
      ]
     },
     "execution_count": 20,
     "metadata": {},
     "output_type": "execute_result"
    }
   ],
   "source": [
    "model2 = ols(formula=formula,data=df_log).fit()\n",
    "model2.summary()"
   ]
  },
  {
   "cell_type": "code",
   "execution_count": 21,
   "metadata": {},
   "outputs": [
    {
     "data": {
      "image/png": "[encoded data removed]",
      "text/plain": [
       "<Figure size 432x288 with 1 Axes>"
      ]
     },
     "metadata": {
      "needs_background": "light"
     },
     "output_type": "display_data"
    }
   ],
   "source": [
    "fig2 = sm.graphics.qqplot(model2.resid, dist=stats.norm, line='45', fit=True)"
   ]
  },
  {
   "cell_type": "code",
   "execution_count": 22,
   "metadata": {},
   "outputs": [],
   "source": [
    "y = df_log.log_price\n",
    "X = df_log.drop(['price','log_price'],axis=1)"
   ]
  },
  {
   "cell_type": "code",
   "execution_count": 23,
   "metadata": {},
   "outputs": [],
   "source": [
    "X_train, X_test, y_train, y_test = train_test_split(X, y, test_size=0.2, random_state=42)"
   ]
  },
  {
   "cell_type": "code",
   "execution_count": 24,
   "metadata": {},
   "outputs": [],
   "source": [
    "linreg = LinearRegression()\n",
    "linreg.fit(X_train, y_train)\n",
    "\n",
    "y_hat_train = linreg.predict(X_train)\n",
    "y_hat_test = linreg.predict(X_test)"
   ]
  },
  {
   "cell_type": "code",
   "execution_count": 25,
   "metadata": {},
   "outputs": [],
   "source": [
    "y_hat_train = linreg.predict(X_train)\n",
    "y_hat_test = linreg.predict(X_test)"
   ]
  },
  {
   "cell_type": "code",
   "execution_count": 26,
   "metadata": {},
   "outputs": [],
   "source": [
    "y_hat_test_exp = np.exp(y_hat_test)"
   ]
  },
  {
   "cell_type": "code",
   "execution_count": 27,
   "metadata": {},
   "outputs": [],
   "source": [
    "y_test_exp = np.exp(y_test)"
   ]
  },
  {
   "cell_type": "code",
   "execution_count": 28,
   "metadata": {},
   "outputs": [],
   "source": [
    "y_hat_train_exp = np.exp(y_hat_train)"
   ]
  },
  {
   "cell_type": "code",
   "execution_count": 29,
   "metadata": {},
   "outputs": [],
   "source": [
    "y_train_exp = np.exp(y_train)"
   ]
  },
  {
   "cell_type": "code",
   "execution_count": 30,
   "metadata": {},
   "outputs": [
    {
     "name": "stdout",
     "output_type": "stream",
     "text": [
      "Train Mean Squarred Error: 0.06212788279226744\n",
      "Test Mean Squarred Error: 0.06127225584280275\n"
     ]
    }
   ],
   "source": [
    "train_mse = mean_squared_error(y_train, y_hat_train)\n",
    "test_mse = mean_squared_error(y_test, y_hat_test)\n",
    "print('Train Mean Squarred Error:', train_mse)\n",
    "print('Test Mean Squarred Error:', test_mse)"
   ]
  },
  {
   "cell_type": "code",
   "execution_count": 31,
   "metadata": {},
   "outputs": [
    {
     "name": "stdout",
     "output_type": "stream",
     "text": [
      "train 157669.94225882247\n",
      "test 153145.45364839715\n"
     ]
    }
   ],
   "source": [
    "mse_train_exp = mean_squared_error(y_train_exp,y_hat_train_exp,squared=False)\n",
    "mse_test_exp = mean_squared_error(y_test_exp,y_hat_test_exp,squared=False)\n",
    "print('train', mse_train_exp)\n",
    "print('test', mse_test_exp)"
   ]
  },
  {
   "cell_type": "code",
   "execution_count": 38,
   "metadata": {
    "scrolled": true
   },
   "outputs": [
    {
     "data": {
      "text/plain": [
       "[('sqft_living', 31.291892291439634),\n",
       " ('sqft_lot', 1.2290512971609413),\n",
       " ('sqft_basement', 2.834462887155972),\n",
       " ('lat', 119161.03204967901),\n",
       " ('long', 119120.40221065155),\n",
       " ('bedrooms_2', 19.22243173903263),\n",
       " ('bedrooms_3', 69.76056580060828),\n",
       " ('bedrooms_4', 50.27114178398659),\n",
       " ('bedrooms_5', 12.209547174361786),\n",
       " ('bedrooms_6', 2.6488425407599445),\n",
       " ('bathrooms_1_5', 1.5721878376540859),\n",
       " ('bathrooms_1_75', 2.4465980877212297),\n",
       " ('bathrooms_2', 1.9193137305720862),\n",
       " ('bathrooms_2_25', 2.5551697060606555),\n",
       " ('bathrooms_2_5', 6.287436857697523),\n",
       " ('bathrooms_2_75', 2.152481069797816),\n",
       " ('bathrooms_3', 1.7409109533668192),\n",
       " ('bathrooms_3_25', 1.7834714152161735),\n",
       " ('bathrooms_3_5', 2.157302500782724),\n",
       " ('bathrooms_3_75', 1.2371872972800557),\n",
       " ('bathrooms_4', 1.2170841095912914),\n",
       " ('bathrooms_4_25', 1.1470225938143355),\n",
       " ('floors_1_5', 1.5246471841945317),\n",
       " ('floors_2', 4.937292858959022),\n",
       " ('floors_3', 1.4269413487755345),\n",
       " ('waterfront_1', 1.3977616849365762),\n",
       " ('view_1', 1.040926295901617),\n",
       " ('view_2', 1.1068991563923256),\n",
       " ('view_3', 1.0915789028313858),\n",
       " ('view_4', 1.4469185135179805),\n",
       " ('condition_4', 1.7276638477208137),\n",
       " ('condition_5', 1.3015093625388587),\n",
       " ('grade_fair', 6.699181938369944),\n",
       " ('grade_good', 9.072807836859907),\n",
       " ('grade_excellent', 3.259260067362426),\n",
       " ('yr_built_early_century', 2.5727540195828724),\n",
       " ('yr_built_mid_century', 5.042791173830668),\n",
       " ('yr_built_modern', 6.210562373734395),\n",
       " ('yr_built_post_modern', 5.715944866680848),\n",
       " ('has_renovated_1', 1.0810046139192275)]"
      ]
     },
     "execution_count": 38,
     "metadata": {},
     "output_type": "execute_result"
    }
   ],
   "source": [
    "vif = [variance_inflation_factor(X.values, i) for i in range(X.shape[1])]\n",
    "list(zip(X, vif))"
   ]
  },
  {
   "cell_type": "code",
   "execution_count": 39,
   "metadata": {},
   "outputs": [
    {
     "data": {
      "text/plain": [
       "[<matplotlib.lines.Line2D at 0x7ff94871cfd0>]"
      ]
     },
     "execution_count": 39,
     "metadata": {},
     "output_type": "execute_result"
    },
    {
     "data": {
      "image/png": "[encoded data removed]",
      "text/plain": [
       "<Figure size 432x288 with 1 Axes>"
      ]
     },
     "metadata": {
      "needs_background": "light"
     },
     "output_type": "display_data"
    }
   ],
   "source": [
    "plt.scatter(model2.predict(X), model2.resid)\n",
    "plt.plot(model2.predict(X), [0 for i in range(len(df_log))])"
   ]
  },
  {
   "cell_type": "code",
   "execution_count": 40,
   "metadata": {},
   "outputs": [],
   "source": [
    "import folium"
   ]
  },
  {
   "cell_type": "code",
   "execution_count": 41,
   "metadata": {},
   "outputs": [
    {
     "data": {
      "text/plain": [
       "47.1559"
      ]
     },
     "execution_count": 41,
     "metadata": {},
     "output_type": "execute_result"
    }
   ],
   "source": [
    "df_log.lat.min()"
   ]
  },
  {
   "cell_type": "code",
   "execution_count": 42,
   "metadata": {},
   "outputs": [
    {
     "data": {
      "text/plain": [
       "47.55949847646773"
      ]
     },
     "execution_count": 42,
     "metadata": {},
     "output_type": "execute_result"
    }
   ],
   "source": [
    "df_log.lat.mean()"
   ]
  },
  {
   "cell_type": "code",
   "execution_count": 43,
   "metadata": {},
   "outputs": [
    {
     "data": {
      "text/plain": [
       "-122.21331722464825"
      ]
     },
     "execution_count": 43,
     "metadata": {},
     "output_type": "execute_result"
    }
   ],
   "source": [
    "df_log.long.mean()"
   ]
  },
  {
   "cell_type": "code",
   "execution_count": 44,
   "metadata": {},
   "outputs": [],
   "source": [
    "kc_coordinates = (47.55949847646773,-122.21331722464825 )"
   ]
  },
  {
   "cell_type": "code",
   "execution_count": 45,
   "metadata": {},
   "outputs": [],
   "source": [
    "kc_map = folium.Map(location=kc_coordinates)"
   ]
  },
  {
   "cell_type": "code",
   "execution_count": 46,
   "metadata": {},
   "outputs": [
    {
     "data": {
      "text/html": [
       "<div style=\"width:100%;\"><div style=\"position:relative;width:100%;height:0;padding-bottom:60%;\"><span style=\"color:#565656\">Make this Notebook Trusted to load map: File -> Trust Notebook</span><iframe src=\"about:blank\" style=\"position:absolute;width:100%;height:100%;left:0;top:0;border:none !important;\" data-html=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 onload=\"this.contentDocument.open();this.contentDocument.write(atob(this.getAttribute('data-html')));this.contentDocument.close();\" allowfullscreen webkitallowfullscreen mozallowfullscreen></iframe></div></div>"
      ],
      "text/plain": [
       "<folium.folium.Map at 0x7ff948b066d0>"
      ]
     },
     "execution_count": 46,
     "metadata": {},
     "output_type": "execute_result"
    }
   ],
   "source": [
    "kc_map"
   ]
  },
  {
   "cell_type": "code",
   "execution_count": 48,
   "metadata": {
    "scrolled": false
   },
   "outputs": [
    {
     "data": {
      "text/plain": [
       "pandas.core.frame.DataFrame"
      ]
     },
     "execution_count": 48,
     "metadata": {},
     "output_type": "execute_result"
    }
   ],
   "source": [
    "type(df1.groupby('zipcode').median()[['lat','long','price']])"
   ]
  },
  {
   "cell_type": "code",
   "execution_count": 53,
   "metadata": {},
   "outputs": [
    {
     "data": {
      "text/plain": [
       "4490000.0"
      ]
     },
     "execution_count": 53,
     "metadata": {},
     "output_type": "execute_result"
    }
   ],
   "source": [
    "df1.price.values.max()"
   ]
  },
  {
   "cell_type": "code",
   "execution_count": 50,
   "metadata": {
    "scrolled": true
   },
   "outputs": [
    {
     "data": {
      "text/plain": [
       "[[47.3162, -122.272, 260000.0],\n",
       " [47.3063, -122.215, 235000.0],\n",
       " [47.3283, -122.308, 269500.0],\n",
       " [47.6209, -122.205, 1100000.0],\n",
       " [47.6034, -122.169, 768500.0],\n",
       " [47.5587, -122.147, 750652.5],\n",
       " [47.60835, -122.1425, 557500.0],\n",
       " [47.61600000000001, -122.117, 543475.0],\n",
       " [47.3359, -122.003, 355500.0],\n",
       " [47.7557, -122.202, 470000.0],\n",
       " [47.6742, -121.9115, 419000.0],\n",
       " [47.735749999999996, -121.9675, 404625.0],\n",
       " [47.2057, -121.999, 279000.0],\n",
       " [47.3085, -122.365, 269000.0],\n",
       " [47.5619, -121.901, 462500.0],\n",
       " [47.5321, -122.0495, 562500.0],\n",
       " [47.755449999999996, -122.244, 445500.0],\n",
       " [47.55955, -122.003, 564900.0],\n",
       " [47.371, -122.185, 282510.0],\n",
       " [47.40385, -122.188, 288200.0],\n",
       " [47.3733, -122.285, 250000.0],\n",
       " [47.68385, -122.1875, 675000.0],\n",
       " [47.72195, -122.2125, 445000.0],\n",
       " [47.3639, -122.033, 342250.0],\n",
       " [47.6242, -122.235, 1760000.0],\n",
       " [47.5607, -122.225, 989900.0],\n",
       " [47.3666, -122.115, 294000.0],\n",
       " [47.47880000000001, -121.769, 412500.0],\n",
       " [47.6834, -122.116, 615000.0],\n",
       " [47.6824, -122.025, 632500.0],\n",
       " [47.4557, -122.201, 297225.0],\n",
       " [47.510099999999994, -122.182, 380000.0],\n",
       " [47.4478, -122.151, 335750.0],\n",
       " [47.4896, -122.147, 435000.0],\n",
       " [47.5337, -121.871, 500000.0],\n",
       " [47.4125, -122.461, 480000.0],\n",
       " [47.74975, -122.132, 514500.0],\n",
       " [47.6254, -122.045, 644500.0],\n",
       " [47.5884, -122.022, 735000.0],\n",
       " [47.74545, -122.066, 649975.0],\n",
       " [47.312, -122.181, 308900.0],\n",
       " [47.6371, -122.321, 690000.0],\n",
       " [47.6797, -122.346, 550000.0],\n",
       " [47.666, -122.288, 670000.0],\n",
       " [47.5329, -122.357, 315000.0],\n",
       " [47.6711, -122.372, 529950.0],\n",
       " [47.5525, -122.304, 345000.0],\n",
       " [47.6372, -122.351, 736000.0],\n",
       " [47.629850000000005, -122.3, 881500.0],\n",
       " [47.6845, -122.304, 570000.0],\n",
       " [47.573, -122.392, 567500.0],\n",
       " [47.68600000000001, -122.378, 545000.0],\n",
       " [47.5459, -122.275, 375000.0],\n",
       " [47.6402, -122.368, 737500.0],\n",
       " [47.6105, -122.299, 565000.0],\n",
       " [47.71655, -122.302, 425000.0],\n",
       " [47.544, -122.376, 397337.5],\n",
       " [47.7329, -122.3425, 375000.0],\n",
       " [47.54025, -122.388, 487475.0],\n",
       " [47.58775, -122.296, 452500.0],\n",
       " [47.5039, -122.359, 319950.0],\n",
       " [47.4323, -122.33, 280000.0],\n",
       " [47.7538, -122.3055, 375000.0],\n",
       " [47.4556, -122.349, 398975.0],\n",
       " [47.48909999999999, -122.312, 239475.0],\n",
       " [47.7539, -122.368, 550000.0],\n",
       " [47.4996, -122.247, 280002.5],\n",
       " [47.44815, -122.282, 264000.0],\n",
       " [47.392250000000004, -122.317, 266875.0],\n",
       " [47.6482, -122.399, 693000.0]]"
      ]
     },
     "execution_count": 50,
     "metadata": {},
     "output_type": "execute_result"
    }
   ],
   "source": [
    "data = df1.groupby('zipcode').median()[['lat','long','price']].values.tolist()\n",
    "data"
   ]
  },
  {
   "cell_type": "code",
   "execution_count": 52,
   "metadata": {},
   "outputs": [
    {
     "data": {
      "text/html": [
       "<div style=\"width:100%;\"><div style=\"position:relative;width:100%;height:0;padding-bottom:60%;\"><span style=\"color:#565656\">Make this Notebook Trusted to load map: File -> Trust Notebook</span><iframe src=\"about:blank\" style=\"position:absolute;width:100%;height:100%;left:0;top:0;border:none !important;\" data-html=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 onload=\"this.contentDocument.open();this.contentDocument.write(atob(this.getAttribute('data-html')));this.contentDocument.close();\" allowfullscreen webkitallowfullscreen mozallowfullscreen></iframe></div></div>"
      ],
      "text/plain": [
       "<folium.folium.Map at 0x7ff948b066d0>"
      ]
     },
     "metadata": {},
     "output_type": "display_data"
    }
   ],
   "source": [
    "from folium.plugins import HeatMap\n",
    "HeatMap(data = data).add_to(kc_map)\n",
    "display(kc_map)"
   ]
  },
  {
   "cell_type": "code",
   "execution_count": null,
   "metadata": {},
   "outputs": [],
   "source": []
  },
  {
   "cell_type": "code",
   "execution_count": null,
   "metadata": {},
   "outputs": [],
   "source": []
  },
  {
   "cell_type": "code",
   "execution_count": null,
   "metadata": {},
   "outputs": [],
   "source": []
  },
  {
   "cell_type": "code",
   "execution_count": null,
   "metadata": {},
   "outputs": [],
   "source": []
  },
  {
   "cell_type": "code",
   "execution_count": null,
   "metadata": {},
   "outputs": [],
   "source": []
  },
  {
   "cell_type": "code",
   "execution_count": null,
   "metadata": {},
   "outputs": [],
   "source": []
  }
 ],
 "metadata": {
  "kernelspec": {
   "display_name": "Python 3",
   "language": "python",
   "name": "python3"
  },
  "language_info": {
   "codemirror_mode": {
    "name": "ipython",
    "version": 3
   },
   "file_extension": ".py",
   "mimetype": "text/x-python",
   "name": "python",
   "nbconvert_exporter": "python",
   "pygments_lexer": "ipython3",
   "version": "3.8.5"
  }
 },
 "nbformat": 4,
 "nbformat_minor": 4
}
