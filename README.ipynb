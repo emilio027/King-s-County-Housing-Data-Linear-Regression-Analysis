{
 "cells": [
  {
   "cell_type": "markdown",
   "metadata": {},
   "source": [
    "# King's County Housing Data Linear Regression Analysis "
   ]
  },
  {
   "cell_type": "markdown",
   "metadata": {},
   "source": [
    "![Kings County Map](Pictures/kc_map.png)"
   ]
  },
  {
   "cell_type": "markdown",
   "metadata": {},
   "source": [
    "This experiment in linear regression aims to assess the fluctuation of prices of homes in Kings County, Seattle, for a private equity firm focusing on real estate acquisitions. The manipulation of the homes' variables such as square feet, waterfronts, and other architectural features affect the total worth of the house, and it is the intention of these linear models to explain the home's value. \n",
    "\n",
    "The data collected for the experiment range from 2014 to 2015, and it is essential to acknowledge the limitations of that specific factor as home prices were in a steep heel which marked the 2010's housing market from its recovery from the previous decade.\n",
    "\n"
   ]
  },
  {
   "cell_type": "markdown",
   "metadata": {},
   "source": [
    "# Business Problem\n",
    "\n",
    "The project was financed by a private equity firm looking to invest in the private home sector across the King's County area.\n",
    "\n",
    "This linear regression analysis explains the relationship between an investment's price and the features of the underlying assets. \n",
    "\n",
    "The data used to project this model was limited to homes under six bedrooms and below the price of two million dollars. After analyzing the data, it was determined that these are the most popular household dimensions.\n",
    "\n",
    "While this leads to a more robust and accurate inferring model, it does not shed enough light on homes considered the top tier of Seattle real estate."
   ]
  },
  {
   "cell_type": "markdown",
   "metadata": {},
   "source": [
    "# Data"
   ]
  },
  {
   "cell_type": "markdown",
   "metadata": {},
   "source": [
    "The data used in this linear regression is housing data from Kings' County, Seattle, Washington. The data included the following columns; these are their names and descriptions:\n",
    "\n",
    "* **id** - unique identified for a house\n",
    "* **dateDate** - house was sold\n",
    "* **pricePrice** -  is prediction target\n",
    "* **bedroomsNumber** -  of Bedrooms/House\n",
    "* **bathroomsNumber** -  of bathrooms/bedrooms\n",
    "* **sqft_livingsquare** -  footage of the home\n",
    "* **sqft_lotsquare** -  footage of the lot\n",
    "* **floorsTotal** -  floors (levels) in house\n",
    "* **waterfront** - House which has a view to a waterfront\n",
    "* **view** - Has been viewed\n",
    "* **condition** - How good the condition is ( Overall )\n",
    "* **grade** - overall grade given to the housing unit, based on King County grading system\n",
    "* **sqft_above** - square footage of house apart from basement\n",
    "* **sqft_basement** - square footage of the basement\n",
    "* **yr_built** - Built Year\n",
    "* **yr_renovated** - Year when house was renovated\n",
    "* **zipcode** - zip\n",
    "* **lat** - Latitude coordinate\n",
    "* **long** - Longitude coordinate\n",
    "* **sqft_living15** - The square footage of interior housing living space for the nearest 15 neighbors\n",
    "* **sqft_lot15** - The square footage of the land lots of the nearest 15 neighbors\n",
    "\n",
    "\n",
    "Of the columns provided, the following were used for all three models:\n",
    "\n",
    "Continious Variables: sqft_living, sqft_lot, sqft_basement, lat,long\n",
    "Categorical Variables: bedroom, bathroom, floor,waterfront, view,condition, grade, yr_built,renovated\n",
    "\n",
    "\n",
    "The baseline model was carried out using raw data. \n",
    "\n",
    "The subsequent model used a logarithmic transformation of the price of the homes to make statistical predictions more valid.\n",
    "\n",
    "The third and final model focused on homes with a price under two-million dollars and six bedrooms, honing in on the niche market targeted by the private equity firm.\n"
   ]
  },
  {
   "cell_type": "markdown",
   "metadata": {},
   "source": [
    "# Results"
   ]
  },
  {
   "cell_type": "markdown",
   "metadata": {},
   "source": [
    "## Model 1"
   ]
  },
  {
   "cell_type": "markdown",
   "metadata": {},
   "source": [
    "The baseline model included data from all homes sold across Kings County, Seattle. \n",
    "\n",
    "The following graphic depicts the early correlation between price and square feet."
   ]
  },
  {
   "cell_type": "markdown",
   "metadata": {},
   "source": [
    "![M1sq](Pictures/modelprice.png)"
   ]
  },
  {
   "cell_type": "markdown",
   "metadata": {},
   "source": [
    "When we look at the linearity of the model, we appreciate the shortcomings of its predictive power."
   ]
  },
  {
   "cell_type": "markdown",
   "metadata": {},
   "source": [
    "![model1_lin](Pictures/model1.png)"
   ]
  },
  {
   "cell_type": "markdown",
   "metadata": {},
   "source": [
    "## Model 2"
   ]
  },
  {
   "cell_type": "markdown",
   "metadata": {},
   "source": [
    "The second model was carried out using data after a logarithmic or Log-Level regression on the price value as it is the dependent variable or determining outcome we are after.  \n",
    "\n",
    "![Model_r](Pictures/model2_r.png)"
   ]
  },
  {
   "cell_type": "markdown",
   "metadata": {},
   "source": [
    "The 'R-squared' value depicts the percentage of uncertainty the data used reflects on the outcome of this model.\n",
    "\n",
    "The error below depicts the mistakes made while calculating the values from the same data set split into 80/20 percent between the \"train\" data and the \"test\" data.\n",
    "\n",
    "\n",
    "Train: 173545.43\\\n",
    "Test: 184910.27\n",
    "\n",
    "\n",
    "This number reflects the possible error from the actual home price of the underlying asset. "
   ]
  },
  {
   "cell_type": "markdown",
   "metadata": {},
   "source": [
    "The Price to variable relationship did, however, considerably increase.\n",
    "\n",
    "![model2_lin](Pictures/model2.png)"
   ]
  },
  {
   "cell_type": "markdown",
   "metadata": {},
   "source": [
    "## Model 3"
   ]
  },
  {
   "cell_type": "markdown",
   "metadata": {},
   "source": [
    "The third model was performed under the same circumstances as the second model, except that home prices were kept under two-million dollars, and the number of bedrooms per home was six or less."
   ]
  },
  {
   "cell_type": "markdown",
   "metadata": {},
   "source": [
    "![model3_r](Pictures/model3_r.png)\n",
    "![model3_var](Pictures/model3_var.png)\n",
    "![model3_price](Pictures/model3_price.png)\n",
    "\n",
    "\n",
    "\n",
    "**Train: 157,669.94\\\n",
    "Test: 153,145.46**"
   ]
  },
  {
   "cell_type": "markdown",
   "metadata": {},
   "source": [
    "![bedrooms](Pictures/finalmodelpng.png)"
   ]
  },
  {
   "cell_type": "markdown",
   "metadata": {},
   "source": [
    "The final model depicts a complex relationship between price and the underlying features of the home. The most correlated asset was square foot per home, with a positive correlation between price and area increase. \n",
    "\n",
    "\n",
    "\n",
    "This is a model where the dependent variable is logged, but the independent variable is not:\n",
    "\n",
    "\n",
    "ln(Y) = a + bX + e\n",
    "\n",
    "\n",
    "This is known as a log-level model, and the interpretation is that a unit increase in X results in a 100*b% rise in Y (we multiply by 100 because b is a percentage).\n",
    "\n",
    "\n",
    "\n",
    "This would mean that a year increase in bedrooms is associated with a roughly 100*b% rise in price (log_price).\n"
   ]
  }
 ],
 "metadata": {
  "kernelspec": {
   "display_name": "Python 3",
   "language": "python",
   "name": "python3"
  },
  "language_info": {
   "codemirror_mode": {
    "name": "ipython",
    "version": 3
   },
   "file_extension": ".py",
   "mimetype": "text/x-python",
   "name": "python",
   "nbconvert_exporter": "python",
   "pygments_lexer": "ipython3",
   "version": "3.8.5"
  }
 },
 "nbformat": 4,
 "nbformat_minor": 4
}
